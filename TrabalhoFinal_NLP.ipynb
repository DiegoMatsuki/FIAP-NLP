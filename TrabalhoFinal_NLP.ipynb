{
  "nbformat": 4,
  "nbformat_minor": 0,
  "metadata": {
    "colab": {
      "name": "TrabalhoFinal_NLP.ipynb",
      "provenance": [],
      "collapsed_sections": [
        "qO7dIjulAVsi",
        "21bsoQoOAVsi",
        "3bWn0x89Ep7y",
        "Fhtt8tIeAVsi",
        "07WGfYX-AVsj",
        "zwaiKz5yAVsk",
        "D03oTkcMAVsk",
        "JVg8yT6lFBqm",
        "gKO0kmI_FBqo",
        "anCEXxdZFBqp",
        "nbXqn2LYFBqp",
        "sWkBlMS5FBqq",
        "3FNfgMUzFCjT",
        "wnlUT-uYn-2F",
        "c7nnIyU7g_vT",
        "f4eiNR3eMOGH",
        "gSuUldn2MPCF",
        "HRyIcxvEMPCF",
        "fc6nXbUmMPCG",
        "E2p35LnFMPCG",
        "fpe8kpA6MPCH",
        "cytiQwJxiHgj",
        "CglYqDOFiHgq",
        "jNLJ18BEiHgq",
        "loj_Qol5iHgs",
        "6z5w5HvViHgt",
        "cBeDtIfWiHgt",
        "LegkemmJiHgu",
        "k1N9YBQxiHgz",
        "jq6bQ0evvCHT"
      ],
      "toc_visible": true
    },
    "kernelspec": {
      "display_name": "Python 3",
      "language": "python",
      "name": "python3"
    },
    "language_info": {
      "codemirror_mode": {
        "name": "ipython",
        "version": 3
      },
      "file_extension": ".py",
      "mimetype": "text/x-python",
      "name": "python",
      "nbconvert_exporter": "python",
      "pygments_lexer": "ipython3",
      "version": "3.8.5-final"
    }
  },
  "cells": [
    {
      "cell_type": "markdown",
      "metadata": {
        "id": "7xw6WhaNo4k3"
      },
      "source": [
        "### Criar um classificador de sentimento aplicando técnicas de PLN\n",
        "---\n",
        "\n",
        "Utilizando o dataset de revisões de filmes em português [1], criar um classificador de sentimentos que consiga um score na métrica F1 Score superior a 70%.\n",
        "\n",
        "Devem utilizar uma amostra de 20% e randon_state igual a 42 para testar as implementações e mensurar a métrica F1 Score (usar o parâmetro average = 'weighted') o restante dos dados devem ser utilizados para o treinamento (80%).\n",
        "\n",
        "Fique a vontade para testar os métodos de pré-processamento, abordagens, algoritmos e bibliotecas, mas explique e justifique suas decisões.\n",
        "O trabalho poderá ser feito em grupo de até 4 pessoas (mesmo grupo do Startup One).\n",
        "Separar a implementação do seu modelo campeão e a parte de validação do resultado conforme template disponibilizado, a ideia é simular a implementação de um modelo produtivo.\n",
        "\n",
        "Composição da nota:\n",
        "- 50% - Demonstrações das aplicações das técnicas de PLN (regras, pré-processamentos, tratamnentos, varierade de modelos aplicados, etc.)\n",
        "- 50% - Baseado na performance obtida com o dataset de teste do seu modelo e na validação que o professor processar (Métrica F1 Score).\n"
      ]
    },
    {
      "cell_type": "markdown",
      "metadata": {
        "id": "fzhQpodBpRpX"
      },
      "source": [
        "[1] - https://dados-ml-pln.s3-sa-east-1.amazonaws.com/reviews-pt-br.csv"
      ]
    },
    {
      "cell_type": "code",
      "metadata": {
        "id": "DMBI8SQtps1n"
      },
      "source": [
        "#CARREGANDO O DATA FRAME\n",
        "import pandas as pd\n",
        "df_full = pd.read_csv('https://dados-ml-pln.s3-sa-east-1.amazonaws.com/reviews-pt-br.csv', encoding='utf-8')\n",
        "\n",
        "df = df_full.sample(n=1000, random_state=42)"
      ],
      "execution_count": 1,
      "outputs": []
    },
    {
      "cell_type": "code",
      "metadata": {
        "colab": {
          "base_uri": "https://localhost:8080/"
        },
        "id": "s__lBzDQwrcG",
        "outputId": "07f0c36e-84ca-4d90-ed0c-f405efdce84c"
      },
      "source": [
        "df.info()"
      ],
      "execution_count": 2,
      "outputs": [
        {
          "output_type": "stream",
          "text": [
            "<class 'pandas.core.frame.DataFrame'>\n",
            "Int64Index: 1000 entries, 15538 to 21350\n",
            "Data columns (total 3 columns):\n",
            " #   Column      Non-Null Count  Dtype \n",
            "---  ------      --------------  ----- \n",
            " 0   codigo      1000 non-null   int64 \n",
            " 1   texto       1000 non-null   object\n",
            " 2   sentimento  1000 non-null   object\n",
            "dtypes: int64(1), object(2)\n",
            "memory usage: 31.2+ KB\n"
          ],
          "name": "stdout"
        }
      ]
    },
    {
      "cell_type": "code",
      "metadata": {
        "colab": {
          "base_uri": "https://localhost:8080/"
        },
        "id": "LbWn9VZcAVsg",
        "outputId": "f133c65b-659c-48a4-fbd7-906d2de141d3"
      },
      "source": [
        "# Separando os Data Frames entre treino e teste\n",
        "from sklearn.model_selection import train_test_split\n",
        "\n",
        "df_train, df_test = train_test_split(\n",
        "    df.copy(), \n",
        "    test_size = 0.2, \n",
        "    random_state = 42\n",
        ")\n",
        "\n",
        "print('Treino: df_train', df_train.shape)\n",
        "print('Treino: df_test', df_test.shape)"
      ],
      "execution_count": 3,
      "outputs": [
        {
          "output_type": "stream",
          "text": [
            "Treino: df_train (800, 3)\n",
            "Treino: df_test (200, 3)\n"
          ],
          "name": "stdout"
        }
      ]
    },
    {
      "cell_type": "code",
      "metadata": {
        "colab": {
          "base_uri": "https://localhost:8080/"
        },
        "id": "8MKPbAibAVsg",
        "outputId": "6bf6b1a4-2be6-48b9-8521-366f1728af9e"
      },
      "source": [
        "# Import e downlaod de bibliotecas utilizadas a seguir\n",
        "import numpy as np\n",
        "import nltk\n",
        "from nltk.tokenize import word_tokenize\n",
        "\n",
        "from sklearn.feature_extraction.text import CountVectorizer\n",
        "from sklearn.feature_extraction.text import TfidfVectorizer\n",
        "\n",
        "from nltk.stem.rslp import RSLPStemmer\n",
        "from nltk.stem import SnowballStemmer\n",
        "\n",
        "from sklearn.tree import DecisionTreeClassifier\n",
        "from sklearn.naive_bayes import MultinomialNB\n",
        "from sklearn.metrics import f1_score\n",
        "\n",
        "nltk.download('punkt')\n",
        "nltk.download('rslp')\n",
        "nltk.download('stopwords')\n",
        "nltk.download('wordnet')\n",
        "\n",
        "import spacy"
      ],
      "execution_count": 4,
      "outputs": [
        {
          "output_type": "stream",
          "text": [
            "[nltk_data] Downloading package punkt to /root/nltk_data...\n",
            "[nltk_data]   Package punkt is already up-to-date!\n",
            "[nltk_data] Downloading package rslp to /root/nltk_data...\n",
            "[nltk_data]   Package rslp is already up-to-date!\n",
            "[nltk_data] Downloading package stopwords to /root/nltk_data...\n",
            "[nltk_data]   Package stopwords is already up-to-date!\n",
            "[nltk_data] Downloading package wordnet to /root/nltk_data...\n",
            "[nltk_data]   Package wordnet is already up-to-date!\n"
          ],
          "name": "stdout"
        }
      ]
    },
    {
      "cell_type": "markdown",
      "metadata": {
        "id": "FyKC9Vhkp0BK"
      },
      "source": [
        "Bom desenvolvimento!"
      ]
    },
    {
      "cell_type": "code",
      "metadata": {
        "id": "SedbPFXVAVsh"
      },
      "source": [
        "resultado = [] "
      ],
      "execution_count": 5,
      "outputs": []
    },
    {
      "cell_type": "code",
      "metadata": {
        "id": "0vTWgdzKAVsh"
      },
      "source": [
        "stopwords = nltk.corpus.stopwords.words('portuguese')"
      ],
      "execution_count": 6,
      "outputs": []
    },
    {
      "cell_type": "markdown",
      "metadata": {
        "id": "qO7dIjulAVsi"
      },
      "source": [
        "## Stemming"
      ]
    },
    {
      "cell_type": "code",
      "metadata": {
        "id": "7pBWXU1mAVsi"
      },
      "source": [
        "# Criação das coluna de tokens \n",
        "df_train['tokens'] = df_train.texto.apply(word_tokenize)\n",
        "df_test['tokens'] = df_test.texto.apply(word_tokenize)"
      ],
      "execution_count": 7,
      "outputs": []
    },
    {
      "cell_type": "code",
      "metadata": {
        "id": "-pyYIC3VAVsi"
      },
      "source": [
        "# Criação das coluna RSLP Stemmer\n",
        "rslp = RSLPStemmer()\n",
        "\n",
        "def stem_pandas(line):\n",
        "  return ' '.join([rslp.stem(token) for token in line])\n",
        "\n",
        "df_train['stemmer'] = df_train.tokens.apply(stem_pandas)\n",
        "df_test['stemmer'] = df_test.tokens.apply(stem_pandas)"
      ],
      "execution_count": 8,
      "outputs": []
    },
    {
      "cell_type": "code",
      "metadata": {
        "id": "3-4Cjl_MAVsi"
      },
      "source": [
        "# Criação das coluna Snowball Stemmer\n",
        "snowball = SnowballStemmer(\"portuguese\")\n",
        "\n",
        "def stemsnow_pandas(line):\n",
        "  return ' '.join([snowball.stem(token) for token in line])\n",
        "\n",
        "df_train['stemmersnow'] = df_train.tokens.apply(stemsnow_pandas)\n",
        "df_test['stemmersnow'] = df_test.tokens.apply(stemsnow_pandas)"
      ],
      "execution_count": 9,
      "outputs": []
    },
    {
      "cell_type": "markdown",
      "metadata": {
        "id": "tau1L3-mk7IT"
      },
      "source": [
        "## Lemmatização"
      ]
    },
    {
      "cell_type": "code",
      "metadata": {
        "id": "Rh1lk55Yri4N"
      },
      "source": [
        "#!pip install --upgrade spacy\n",
        "#!python -m spacy download pt_core_news_sm"
      ],
      "execution_count": 10,
      "outputs": []
    },
    {
      "cell_type": "code",
      "metadata": {
        "id": "dZyrPYN5lL2j"
      },
      "source": [
        "nlp = spacy.load('pt_core_news_sm')\n",
        "stopwords_spacy = nlp.Defaults.stop_words\n",
        "\n",
        "def lemmatizer_spacy(line):\n",
        "  return ' '.join([token.lemma_ for token in nlp(line)])\n",
        "\n",
        "df_train['lemma'] = df_train.texto.apply(lemmatizer_spacy)\n",
        "df_test['lemma'] = df_test.texto.apply(lemmatizer_spacy)"
      ],
      "execution_count": 11,
      "outputs": []
    },
    {
      "cell_type": "markdown",
      "metadata": {
        "id": "21bsoQoOAVsi"
      },
      "source": [
        "## Vetorização"
      ]
    },
    {
      "cell_type": "markdown",
      "metadata": {
        "id": "3bWn0x89Ep7y"
      },
      "source": [
        "### Texto"
      ]
    },
    {
      "cell_type": "markdown",
      "metadata": {
        "id": "Fhtt8tIeAVsi"
      },
      "source": [
        "#### CountVectorizer"
      ]
    },
    {
      "cell_type": "code",
      "metadata": {
        "id": "H4JVtLEKAVsj"
      },
      "source": [
        "# vetorização da base de treino\n",
        "text_count1Vect = CountVectorizer(ngram_range=(1,1))\n",
        "text_count1Vect.fit(df_train.texto)\n",
        "text_count1Vect_train = text_count1Vect.transform(df_train.texto)"
      ],
      "execution_count": 12,
      "outputs": []
    },
    {
      "cell_type": "code",
      "metadata": {
        "id": "G1fsXYCTAVsj"
      },
      "source": [
        "# vetorização da base de treino\n",
        "text_count2Vect = CountVectorizer(ngram_range=(2,2))\n",
        "text_count2Vect.fit(df_train.texto)\n",
        "text_count2Vect_train = text_count2Vect.transform(df_train.texto)"
      ],
      "execution_count": 13,
      "outputs": []
    },
    {
      "cell_type": "code",
      "metadata": {
        "id": "EkGLMeQtAVsj"
      },
      "source": [
        "# vetorização da base de treino\n",
        "text_count3Vect = CountVectorizer(ngram_range=(3,3))\n",
        "text_count3Vect.fit(df_train.texto)\n",
        "text_count3Vect_train = text_count3Vect.transform(df_train.texto)"
      ],
      "execution_count": 14,
      "outputs": []
    },
    {
      "cell_type": "markdown",
      "metadata": {
        "id": "07WGfYX-AVsj"
      },
      "source": [
        "#### CountVectorizer + Stopwords"
      ]
    },
    {
      "cell_type": "code",
      "metadata": {
        "id": "nOljH3pTAVsj"
      },
      "source": [
        "# vetorização da base de treino\n",
        "text_count1StopVect = CountVectorizer(ngram_range=(1,1), stop_words=stopwords)\n",
        "text_count1StopVect.fit(df_train.texto)\n",
        "text_count1StopVect_train = text_count1StopVect.transform(df_train.texto)"
      ],
      "execution_count": 15,
      "outputs": []
    },
    {
      "cell_type": "code",
      "metadata": {
        "id": "-wrg3TGvAVsj"
      },
      "source": [
        "# vetorização da base de treino\n",
        "text_count2StopVect = CountVectorizer(ngram_range=(2,2), stop_words=stopwords)\n",
        "text_count2StopVect.fit(df_train.texto)\n",
        "text_count2StopVect_train = text_count2StopVect.transform(df_train.texto)"
      ],
      "execution_count": 16,
      "outputs": []
    },
    {
      "cell_type": "code",
      "metadata": {
        "id": "nYnS7yDnAVsk"
      },
      "source": [
        "# vetorização da base de treino\n",
        "text_count3StopVect = CountVectorizer(ngram_range=(3,3), stop_words=stopwords)\n",
        "text_count3StopVect.fit(df_train.texto)\n",
        "text_count3StopVect_train = text_count3StopVect.transform(df_train.texto)"
      ],
      "execution_count": 17,
      "outputs": []
    },
    {
      "cell_type": "markdown",
      "metadata": {
        "id": "zwaiKz5yAVsk"
      },
      "source": [
        "#### TfidfVectorizer"
      ]
    },
    {
      "cell_type": "code",
      "metadata": {
        "id": "nzyOvVwQAVsk"
      },
      "source": [
        "text_tfidf1Vect = TfidfVectorizer(ngram_range=(1,1), use_idf=True)\n",
        "text_tfidf1Vect.fit(df_train.texto)\n",
        "text_tfidf1Vect_train = text_tfidf1Vect.transform(df_train.texto)"
      ],
      "execution_count": 18,
      "outputs": []
    },
    {
      "cell_type": "code",
      "metadata": {
        "id": "upGS5Fl2AVsk"
      },
      "source": [
        "text_tfidf2Vect = TfidfVectorizer(ngram_range=(2,2), use_idf=True)\n",
        "text_tfidf2Vect.fit(df_train.texto)\n",
        "text_tfidf2Vect_train = text_tfidf2Vect.transform(df_train.texto)"
      ],
      "execution_count": 19,
      "outputs": []
    },
    {
      "cell_type": "code",
      "metadata": {
        "id": "Ummv5AVrAVsk"
      },
      "source": [
        "text_tfidf3Vect = TfidfVectorizer(ngram_range=(3,3), use_idf=True)\n",
        "text_tfidf3Vect.fit(df_train.texto)\n",
        "text_tfidf3Vect_train = text_tfidf3Vect.transform(df_train.texto)"
      ],
      "execution_count": 20,
      "outputs": []
    },
    {
      "cell_type": "markdown",
      "metadata": {
        "id": "D03oTkcMAVsk"
      },
      "source": [
        "#### TfidfVectorizer + Stopwords"
      ]
    },
    {
      "cell_type": "code",
      "metadata": {
        "id": "XXrNTRnkAVsk"
      },
      "source": [
        "text_tfidf1StopVect = TfidfVectorizer(ngram_range=(1,1), use_idf=True, stop_words=stopwords)\n",
        "text_tfidf1StopVect.fit(df_train.texto)\n",
        "text_tfidf1StopVect_train = text_tfidf1StopVect.transform(df_train.texto)"
      ],
      "execution_count": 21,
      "outputs": []
    },
    {
      "cell_type": "code",
      "metadata": {
        "id": "b-GnvsyXAVsl"
      },
      "source": [
        "text_tfidf2StopVect = TfidfVectorizer(ngram_range=(2,2), use_idf=True, stop_words=stopwords)\n",
        "text_tfidf2StopVect.fit(df_train.texto)\n",
        "text_tfidf2StopVect_train = text_tfidf2StopVect.transform(df_train.texto)"
      ],
      "execution_count": 22,
      "outputs": []
    },
    {
      "cell_type": "code",
      "metadata": {
        "id": "ur9vxpfMAVsl"
      },
      "source": [
        "text_tfidf3StopVect = TfidfVectorizer(ngram_range=(3,3), use_idf=True, stop_words=stopwords)\n",
        "text_tfidf3StopVect.fit(df_train.texto)\n",
        "text_tfidf3StopVect_train = text_tfidf3StopVect.transform(df_train.texto)"
      ],
      "execution_count": 23,
      "outputs": []
    },
    {
      "cell_type": "markdown",
      "metadata": {
        "id": "JVg8yT6lFBqm"
      },
      "source": [
        "### RSLP Stemmer"
      ]
    },
    {
      "cell_type": "markdown",
      "metadata": {
        "id": "gKO0kmI_FBqo"
      },
      "source": [
        "#### CountVectorizer"
      ]
    },
    {
      "cell_type": "code",
      "metadata": {
        "id": "xTwWyKTQFBqo"
      },
      "source": [
        "# vetorização da base de treino\n",
        "rslp_count1Vect = CountVectorizer(ngram_range=(1,1))\n",
        "rslp_count1Vect.fit(df_train.stemmer)\n",
        "rslp_count1Vect_train = rslp_count1Vect.transform(df_train.stemmer)"
      ],
      "execution_count": 24,
      "outputs": []
    },
    {
      "cell_type": "code",
      "metadata": {
        "id": "OGXIxbNLFBqo"
      },
      "source": [
        "# vetorização da base de treino\n",
        "rslp_count2Vect = CountVectorizer(ngram_range=(2,2))\n",
        "rslp_count2Vect.fit(df_train.stemmer)\n",
        "rslp_count2Vect_train = rslp_count2Vect.transform(df_train.stemmer)"
      ],
      "execution_count": 25,
      "outputs": []
    },
    {
      "cell_type": "code",
      "metadata": {
        "id": "JmQTqz0lFBqp"
      },
      "source": [
        "# vetorização da base de treino\n",
        "rslp_count3Vect = CountVectorizer(ngram_range=(3,3))\n",
        "rslp_count3Vect.fit(df_train.stemmer)\n",
        "rslp_count3Vect_train = rslp_count3Vect.transform(df_train.stemmer)"
      ],
      "execution_count": 26,
      "outputs": []
    },
    {
      "cell_type": "markdown",
      "metadata": {
        "id": "anCEXxdZFBqp"
      },
      "source": [
        "#### CountVectorizer + Stopwords"
      ]
    },
    {
      "cell_type": "code",
      "metadata": {
        "id": "iv1lSfyEFBqp"
      },
      "source": [
        "# vetorização da base de treino\n",
        "rslp_count1StopVect = CountVectorizer(ngram_range=(1,1), stop_words=stopwords)\n",
        "rslp_count1StopVect.fit(df_train.stemmer)\n",
        "rslp_count1StopVect_train = rslp_count1StopVect.transform(df_train.stemmer)"
      ],
      "execution_count": 27,
      "outputs": []
    },
    {
      "cell_type": "code",
      "metadata": {
        "id": "C-EChLDhFBqp"
      },
      "source": [
        "# vetorização da base de treino\n",
        "rslp_count2StopVect = CountVectorizer(ngram_range=(2,2), stop_words=stopwords)\n",
        "rslp_count2StopVect.fit(df_train.stemmer)\n",
        "rslp_count2StopVect_train = rslp_count2StopVect.transform(df_train.stemmer)"
      ],
      "execution_count": 28,
      "outputs": []
    },
    {
      "cell_type": "code",
      "metadata": {
        "id": "dlAI5hHSFBqp"
      },
      "source": [
        "# vetorização da base de treino\n",
        "rslp_count3StopVect = CountVectorizer(ngram_range=(3,3), stop_words=stopwords)\n",
        "rslp_count3StopVect.fit(df_train.stemmer)\n",
        "rslp_count3StopVect_train = rslp_count3StopVect.transform(df_train.stemmer)"
      ],
      "execution_count": 29,
      "outputs": []
    },
    {
      "cell_type": "markdown",
      "metadata": {
        "id": "nbXqn2LYFBqp"
      },
      "source": [
        "#### TfidfVectorizer"
      ]
    },
    {
      "cell_type": "code",
      "metadata": {
        "id": "f6xFr94RFBqq"
      },
      "source": [
        "rslp_tfidf1Vect = TfidfVectorizer(ngram_range=(1,1), use_idf=True)\n",
        "rslp_tfidf1Vect.fit(df_train.stemmer)\n",
        "rslp_tfidf1Vect_train = rslp_tfidf1Vect.transform(df_train.stemmer)"
      ],
      "execution_count": 30,
      "outputs": []
    },
    {
      "cell_type": "code",
      "metadata": {
        "id": "iFpX9M8qFBqq"
      },
      "source": [
        "rslp_tfidf2Vect = TfidfVectorizer(ngram_range=(2,2), use_idf=True)\n",
        "rslp_tfidf2Vect.fit(df_train.stemmer)\n",
        "rslp_tfidf2Vect_train = rslp_tfidf2Vect.transform(df_train.stemmer)"
      ],
      "execution_count": 31,
      "outputs": []
    },
    {
      "cell_type": "code",
      "metadata": {
        "id": "IP3HtVf9FBqq"
      },
      "source": [
        "rslp_tfidf3Vect = TfidfVectorizer(ngram_range=(3,3), use_idf=True)\n",
        "rslp_tfidf3Vect.fit(df_train.stemmer)\n",
        "rslp_tfidf3Vect_train = rslp_tfidf3Vect.transform(df_train.stemmer)"
      ],
      "execution_count": 32,
      "outputs": []
    },
    {
      "cell_type": "markdown",
      "metadata": {
        "id": "sWkBlMS5FBqq"
      },
      "source": [
        "#### TfidfVectorizer + Stopwords"
      ]
    },
    {
      "cell_type": "code",
      "metadata": {
        "id": "iCyTshN0FBqq"
      },
      "source": [
        "rslp_tfidf1StopVect = TfidfVectorizer(ngram_range=(1,1), use_idf=True, stop_words=stopwords)\n",
        "rslp_tfidf1StopVect.fit(df_train.stemmer)\n",
        "rslp_tfidf1StopVect_train = rslp_tfidf1StopVect.transform(df_train.stemmer)"
      ],
      "execution_count": 33,
      "outputs": []
    },
    {
      "cell_type": "code",
      "metadata": {
        "id": "OeD_CD2hFBqq"
      },
      "source": [
        "rslp_tfidf2StopVect = TfidfVectorizer(ngram_range=(2,2), use_idf=True, stop_words=stopwords)\n",
        "rslp_tfidf2StopVect.fit(df_train.stemmer)\n",
        "rslp_tfidf2StopVect_train = rslp_tfidf2StopVect.transform(df_train.stemmer)"
      ],
      "execution_count": 34,
      "outputs": []
    },
    {
      "cell_type": "code",
      "metadata": {
        "id": "mCzgmkunFBqq"
      },
      "source": [
        "rslp_tfidf3StopVect = TfidfVectorizer(ngram_range=(3,3), use_idf=True, stop_words=stopwords)\n",
        "rslp_tfidf3StopVect.fit(df_train.stemmer)\n",
        "rslp_tfidf3StopVect_train = rslp_tfidf3StopVect.transform(df_train.stemmer)"
      ],
      "execution_count": 35,
      "outputs": []
    },
    {
      "cell_type": "markdown",
      "metadata": {
        "id": "3FNfgMUzFCjT"
      },
      "source": [
        "### Snowball Stemmer"
      ]
    },
    {
      "cell_type": "markdown",
      "metadata": {
        "id": "MCwg8GXtFCjU"
      },
      "source": [
        "#### CountVectorizer"
      ]
    },
    {
      "cell_type": "code",
      "metadata": {
        "id": "pz4KwgC8FCjU"
      },
      "source": [
        "# vetorização da base de treino\n",
        "snow_count1Vect = CountVectorizer(ngram_range=(1,1))\n",
        "snow_count1Vect.fit(df_train.stemmersnow)\n",
        "snow_count1Vect_train = snow_count1Vect.transform(df_train.stemmersnow)"
      ],
      "execution_count": 36,
      "outputs": []
    },
    {
      "cell_type": "code",
      "metadata": {
        "id": "vyfJ4v_WFCjU"
      },
      "source": [
        "# vetorização da base de treino\n",
        "snow_count2Vect = CountVectorizer(ngram_range=(2,2))\n",
        "snow_count2Vect.fit(df_train.stemmersnow)\n",
        "snow_count2Vect_train = snow_count2Vect.transform(df_train.stemmersnow)"
      ],
      "execution_count": 37,
      "outputs": []
    },
    {
      "cell_type": "code",
      "metadata": {
        "id": "MJTCBxa6FCjU"
      },
      "source": [
        "# vetorização da base de treino\n",
        "snow_count3Vect = CountVectorizer(ngram_range=(3,3))\n",
        "snow_count3Vect.fit(df_train.stemmersnow)\n",
        "snow_count3Vect_train = snow_count3Vect.transform(df_train.stemmersnow)"
      ],
      "execution_count": 38,
      "outputs": []
    },
    {
      "cell_type": "markdown",
      "metadata": {
        "id": "Py45mX5sFCjU"
      },
      "source": [
        "#### CountVectorizer + Stopwords"
      ]
    },
    {
      "cell_type": "code",
      "metadata": {
        "id": "z0BPV3KYFCjU"
      },
      "source": [
        "# vetorização da base de treino\n",
        "snow_count1StopVect = CountVectorizer(ngram_range=(1,1), stop_words=stopwords)\n",
        "snow_count1StopVect.fit(df_train.stemmersnow)\n",
        "snow_count1StopVect_train = snow_count1StopVect.transform(df_train.stemmersnow)"
      ],
      "execution_count": 39,
      "outputs": []
    },
    {
      "cell_type": "code",
      "metadata": {
        "id": "-cW-FBqjFCjU"
      },
      "source": [
        "# vetorização da base de treino\n",
        "snow_count2StopVect = CountVectorizer(ngram_range=(2,2), stop_words=stopwords)\n",
        "snow_count2StopVect.fit(df_train.stemmersnow)\n",
        "snow_count2StopVect_train = snow_count2StopVect.transform(df_train.stemmersnow)"
      ],
      "execution_count": 40,
      "outputs": []
    },
    {
      "cell_type": "code",
      "metadata": {
        "id": "iszjoAVWFCjU"
      },
      "source": [
        "# vetorização da base de treino\n",
        "snow_count3StopVect = CountVectorizer(ngram_range=(3,3), stop_words=stopwords)\n",
        "snow_count3StopVect.fit(df_train.stemmersnow)\n",
        "snow_count3StopVect_train = snow_count3StopVect.transform(df_train.stemmersnow)"
      ],
      "execution_count": 41,
      "outputs": []
    },
    {
      "cell_type": "markdown",
      "metadata": {
        "id": "i1S5d3g0FCjV"
      },
      "source": [
        "#### TfidfVectorizer"
      ]
    },
    {
      "cell_type": "code",
      "metadata": {
        "id": "12lcdrnEFCjV"
      },
      "source": [
        "snow_tfidf1Vect = TfidfVectorizer(ngram_range=(1,1), use_idf=True)\n",
        "snow_tfidf1Vect.fit(df_train.stemmersnow)\n",
        "snow_tfidf1Vect_train = snow_tfidf1Vect.transform(df_train.stemmersnow)"
      ],
      "execution_count": 42,
      "outputs": []
    },
    {
      "cell_type": "code",
      "metadata": {
        "id": "9Z-igRzPFCjV"
      },
      "source": [
        "snow_tfidf2Vect = TfidfVectorizer(ngram_range=(2,2), use_idf=True)\n",
        "snow_tfidf2Vect.fit(df_train.stemmersnow)\n",
        "snow_tfidf2Vect_train = snow_tfidf2Vect.transform(df_train.stemmersnow)"
      ],
      "execution_count": 43,
      "outputs": []
    },
    {
      "cell_type": "code",
      "metadata": {
        "id": "VxL90OA9FCjV"
      },
      "source": [
        "snow_tfidf3Vect = TfidfVectorizer(ngram_range=(3,3), use_idf=True)\n",
        "snow_tfidf3Vect.fit(df_train.stemmersnow)\n",
        "snow_tfidf3Vect_train = snow_tfidf3Vect.transform(df_train.stemmersnow)"
      ],
      "execution_count": 44,
      "outputs": []
    },
    {
      "cell_type": "markdown",
      "metadata": {
        "id": "jk5_lFSvFCjV"
      },
      "source": [
        "#### TfidfVectorizer + Stopwords"
      ]
    },
    {
      "cell_type": "code",
      "metadata": {
        "id": "whm02YRxFCjV"
      },
      "source": [
        "snow_tfidf1StopVect = TfidfVectorizer(ngram_range=(1,1), use_idf=True, stop_words=stopwords)\n",
        "snow_tfidf1StopVect.fit(df_train.stemmersnow)\n",
        "snow_tfidf1StopVect_train = snow_tfidf1StopVect.transform(df_train.stemmersnow)"
      ],
      "execution_count": 45,
      "outputs": []
    },
    {
      "cell_type": "code",
      "metadata": {
        "id": "96Jt1D9dFCjV"
      },
      "source": [
        "snow_tfidf2StopVect = TfidfVectorizer(ngram_range=(2,2), use_idf=True, stop_words=stopwords)\n",
        "snow_tfidf2StopVect.fit(df_train.stemmersnow)\n",
        "snow_tfidf2StopVect_train = snow_tfidf2StopVect.transform(df_train.stemmersnow)"
      ],
      "execution_count": 46,
      "outputs": []
    },
    {
      "cell_type": "code",
      "metadata": {
        "id": "NwQCiTowFCjV"
      },
      "source": [
        "snow_tfidf3StopVect = TfidfVectorizer(ngram_range=(3,3), use_idf=True, stop_words=stopwords)\n",
        "snow_tfidf3StopVect.fit(df_train.stemmersnow)\n",
        "snow_tfidf3StopVect_train = snow_tfidf3StopVect.transform(df_train.stemmersnow)"
      ],
      "execution_count": 47,
      "outputs": []
    },
    {
      "cell_type": "markdown",
      "metadata": {
        "id": "wnlUT-uYn-2F"
      },
      "source": [
        "### Lemma"
      ]
    },
    {
      "cell_type": "markdown",
      "metadata": {
        "id": "H9dlls1Yn-2M"
      },
      "source": [
        "#### CountVectorizer"
      ]
    },
    {
      "cell_type": "code",
      "metadata": {
        "id": "JEOclC-Bn-2N"
      },
      "source": [
        "# vetorização da base de treino\n",
        "lemma_count1Vect = CountVectorizer(ngram_range=(1,1))\n",
        "lemma_count1Vect.fit(df_train.lemma)\n",
        "lemma_count1Vect_train = lemma_count1Vect.transform(df_train.lemma)"
      ],
      "execution_count": 48,
      "outputs": []
    },
    {
      "cell_type": "code",
      "metadata": {
        "id": "m4kgvXOEn-2N"
      },
      "source": [
        "# vetorização da base de treino\n",
        "lemma_count2Vect = CountVectorizer(ngram_range=(2,2))\n",
        "lemma_count2Vect.fit(df_train.lemma)\n",
        "lemma_count2Vect_train = lemma_count2Vect.transform(df_train.lemma)"
      ],
      "execution_count": 49,
      "outputs": []
    },
    {
      "cell_type": "code",
      "metadata": {
        "id": "BcLHnuqgn-2N"
      },
      "source": [
        "# vetorização da base de treino\n",
        "lemma_count3Vect = CountVectorizer(ngram_range=(3,3))\n",
        "lemma_count3Vect.fit(df_train.lemma)\n",
        "lemma_count3Vect_train = lemma_count3Vect.transform(df_train.lemma)"
      ],
      "execution_count": 50,
      "outputs": []
    },
    {
      "cell_type": "markdown",
      "metadata": {
        "id": "HOZiPG8rn-2N"
      },
      "source": [
        "#### CountVectorizer + Stopwords"
      ]
    },
    {
      "cell_type": "code",
      "metadata": {
        "id": "4L28nYEIn-2N"
      },
      "source": [
        "# vetorização da base de treino\n",
        "lemma_count1StopVect = CountVectorizer(ngram_range=(1,1), stop_words=stopwords_spacy)\n",
        "lemma_count1StopVect.fit(df_train.lemma)\n",
        "lemma_count1StopVect_train = lemma_count1StopVect.transform(df_train.lemma)"
      ],
      "execution_count": 51,
      "outputs": []
    },
    {
      "cell_type": "code",
      "metadata": {
        "id": "9mZlIcuXn-2O"
      },
      "source": [
        "# vetorização da base de treino\n",
        "lemma_count2StopVect = CountVectorizer(ngram_range=(2,2), stop_words=stopwords_spacy)\n",
        "lemma_count2StopVect.fit(df_train.lemma)\n",
        "lemma_count2StopVect_train = lemma_count2StopVect.transform(df_train.lemma)"
      ],
      "execution_count": 52,
      "outputs": []
    },
    {
      "cell_type": "code",
      "metadata": {
        "id": "oiFn7sC2n-2O"
      },
      "source": [
        "# vetorização da base de treino\n",
        "lemma_count3StopVect = CountVectorizer(ngram_range=(3,3), stop_words=stopwords_spacy)\n",
        "lemma_count3StopVect.fit(df_train.lemma)\n",
        "lemma_count3StopVect_train = lemma_count3StopVect.transform(df_train.lemma)"
      ],
      "execution_count": 53,
      "outputs": []
    },
    {
      "cell_type": "markdown",
      "metadata": {
        "id": "rf4RfTSbn-2O"
      },
      "source": [
        "#### TfidfVectorizer"
      ]
    },
    {
      "cell_type": "code",
      "metadata": {
        "id": "LxzcZhWQn-2O"
      },
      "source": [
        "lemma_tfidf1Vect = TfidfVectorizer(ngram_range=(1,1), use_idf=True)\n",
        "lemma_tfidf1Vect.fit(df_train.lemma)\n",
        "lemma_tfidf1Vect_train = lemma_tfidf1Vect.transform(df_train.lemma)"
      ],
      "execution_count": 54,
      "outputs": []
    },
    {
      "cell_type": "code",
      "metadata": {
        "id": "r9jsl2Q2n-2O"
      },
      "source": [
        "lemma_tfidf2Vect = TfidfVectorizer(ngram_range=(2,2), use_idf=True)\n",
        "lemma_tfidf2Vect.fit(df_train.lemma)\n",
        "lemma_tfidf2Vect_train = lemma_tfidf2Vect.transform(df_train.lemma)"
      ],
      "execution_count": 55,
      "outputs": []
    },
    {
      "cell_type": "code",
      "metadata": {
        "id": "TMMe74L8n-2O"
      },
      "source": [
        "lemma_tfidf3Vect = TfidfVectorizer(ngram_range=(3,3), use_idf=True)\n",
        "lemma_tfidf3Vect.fit(df_train.lemma)\n",
        "lemma_tfidf3Vect_train = lemma_tfidf3Vect.transform(df_train.lemma)"
      ],
      "execution_count": 56,
      "outputs": []
    },
    {
      "cell_type": "markdown",
      "metadata": {
        "id": "7zZqAlfUn-2P"
      },
      "source": [
        "#### TfidfVectorizer + Stopwords"
      ]
    },
    {
      "cell_type": "code",
      "metadata": {
        "id": "B9UR4Pe9n-2P"
      },
      "source": [
        "lemma_tfidf1StopVect = TfidfVectorizer(ngram_range=(1,1), use_idf=True, stop_words=stopwords_spacy)\n",
        "lemma_tfidf1StopVect.fit(df_train.lemma)\n",
        "lemma_tfidf1StopVect_train = lemma_tfidf1StopVect.transform(df_train.lemma)"
      ],
      "execution_count": 57,
      "outputs": []
    },
    {
      "cell_type": "code",
      "metadata": {
        "id": "LXxSyg2tn-2P"
      },
      "source": [
        "lemma_tfidf2StopVect = TfidfVectorizer(ngram_range=(2,2), use_idf=True, stop_words=stopwords_spacy)\n",
        "lemma_tfidf2StopVect.fit(df_train.lemma)\n",
        "lemma_tfidf2StopVect_train = lemma_tfidf2StopVect.transform(df_train.lemma)"
      ],
      "execution_count": 58,
      "outputs": []
    },
    {
      "cell_type": "code",
      "metadata": {
        "id": "H6SCCZ2Wn-2P"
      },
      "source": [
        "lemma_tfidf3StopVect = TfidfVectorizer(ngram_range=(3,3), use_idf=True, stop_words=stopwords_spacy)\n",
        "lemma_tfidf3StopVect.fit(df_train.lemma)\n",
        "lemma_tfidf3StopVect_train = lemma_tfidf3StopVect.transform(df_train.lemma)"
      ],
      "execution_count": 59,
      "outputs": []
    },
    {
      "cell_type": "markdown",
      "metadata": {
        "id": "fSSxX1HiAVsl"
      },
      "source": [
        "## Treinamento e escoragem"
      ]
    },
    {
      "cell_type": "markdown",
      "metadata": {
        "id": "c7nnIyU7g_vT"
      },
      "source": [
        "### Arvore de Decisão"
      ]
    },
    {
      "cell_type": "markdown",
      "metadata": {
        "id": "GrDrtNBrLrS6"
      },
      "source": [
        "#### Texto\n",
        "\n"
      ]
    },
    {
      "cell_type": "markdown",
      "metadata": {
        "id": "n6u1hkqDAVsl"
      },
      "source": [
        "##### CountVectorizer"
      ]
    },
    {
      "cell_type": "code",
      "metadata": {
        "id": "nze8UbKhosm9",
        "colab": {
          "base_uri": "https://localhost:8080/"
        },
        "outputId": "5df28937-dc3e-4d36-8814-ca57a4dd4d2b"
      },
      "source": [
        "# Texto CountVectorizer Unigrama com arvore de decisão\n",
        "# treinamento do modelo árvore de decisão\n",
        "tree = DecisionTreeClassifier(random_state=42)\n",
        "tree.fit(text_count1Vect_train, df_train.sentimento)\n",
        "\n",
        "# escoragem da classificação na amostra de teste\n",
        "text_vect_test = text_count1Vect.transform(df_test.texto)\n",
        "y_prediction = tree.predict(text_vect_test)\n",
        "\n",
        "# mensuração do resultado pela acurácia\n",
        "score = f1_score(y_prediction, df_test.sentimento, average='weighted')\n",
        "resultado.append(['Texto CountVectorizer Unigrama com arvore de decisão', score])\n",
        "print('Texto CountVectorizer Unigrama com arvore de decisão:', score)"
      ],
      "execution_count": 60,
      "outputs": [
        {
          "output_type": "stream",
          "text": [
            "Texto CountVectorizer Unigrama com arvore de decisão: 0.6751708342719831\n"
          ],
          "name": "stdout"
        }
      ]
    },
    {
      "cell_type": "code",
      "metadata": {
        "colab": {
          "base_uri": "https://localhost:8080/"
        },
        "id": "eeVmL7-zAVsl",
        "outputId": "8dc6c13d-6f3f-47f1-eaaa-b1bd97ee72e6"
      },
      "source": [
        "# Texto CountVectorizer Bigrama com arvore de decisão\n",
        "# treinamento do modelo árvore de decisão\n",
        "tree = DecisionTreeClassifier(random_state=42)\n",
        "tree.fit(text_count2Vect_train, df_train.sentimento)\n",
        "\n",
        "# escoragem da classificação na amostra de teste\n",
        "text_vect_test = text_count2Vect.transform(df_test.texto)\n",
        "y_prediction = tree.predict(text_vect_test)\n",
        "\n",
        "# mensuração do resultado pela acurácia\n",
        "score = f1_score(y_prediction, df_test.sentimento, average='weighted')\n",
        "resultado.append(['Texto CountVectorizer Bigrama com arvore de decisão', score])\n",
        "print('Texto CountVectorizer Bigrama com arvore de decisão:', score)"
      ],
      "execution_count": 61,
      "outputs": [
        {
          "output_type": "stream",
          "text": [
            "Texto CountVectorizer Bigrama com arvore de decisão: 0.6460427807486632\n"
          ],
          "name": "stdout"
        }
      ]
    },
    {
      "cell_type": "code",
      "metadata": {
        "colab": {
          "base_uri": "https://localhost:8080/"
        },
        "id": "qB7U8SydAVsm",
        "outputId": "b3995d72-4ac1-4100-9cc2-33ffefc60ecb"
      },
      "source": [
        "# Texto CountVectorizer Trigrama com arvore de decisão\n",
        "# treinamento do modelo árvore de decisão\n",
        "tree = DecisionTreeClassifier(random_state=42)\n",
        "tree.fit(text_count3Vect_train, df_train.sentimento)\n",
        "\n",
        "# escoragem da classificação na amostra de teste\n",
        "text_vect_test = text_count3Vect.transform(df_test.texto)\n",
        "y_prediction = tree.predict(text_vect_test)\n",
        "\n",
        "# mensuração do resultado pela acurácia\n",
        "score = f1_score(y_prediction, df_test.sentimento, average='weighted')\n",
        "resultado.append(['Texto CountVectorizer Trigrama com arvore de decisão', score])\n",
        "print('Texto CountVectorizer Trigrama com arvore de decisão:', score)"
      ],
      "execution_count": 62,
      "outputs": [
        {
          "output_type": "stream",
          "text": [
            "Texto CountVectorizer Trigrama com arvore de decisão: 0.6105035526722274\n"
          ],
          "name": "stdout"
        }
      ]
    },
    {
      "cell_type": "markdown",
      "metadata": {
        "id": "SjWrIp5HAVsm"
      },
      "source": [
        "##### CountVectorizer + Stopwords"
      ]
    },
    {
      "cell_type": "code",
      "metadata": {
        "colab": {
          "base_uri": "https://localhost:8080/"
        },
        "id": "FECO5RscAVsm",
        "outputId": "f5abb5b3-d55f-4500-8a3a-63f9a7fcc41e"
      },
      "source": [
        "# Texto CountVectorizer Unigrama e stopwords com arvore de decisão\n",
        "# treinamento do modelo árvore de decisão\n",
        "tree = DecisionTreeClassifier(random_state=42)\n",
        "tree.fit(text_count1StopVect_train, df_train.sentimento)\n",
        "\n",
        "# escoragem da classificação na amostra de teste\n",
        "text_vect_test = text_count1StopVect.transform(df_test.texto)\n",
        "y_prediction = tree.predict(text_vect_test)\n",
        "\n",
        "# mensuração do resultado pela acurácia\n",
        "score = f1_score(y_prediction, df_test.sentimento, average='weighted')\n",
        "resultado.append(['Texto CountVectorizer Unigrama e stopwords com arvore de decisão', score])\n",
        "print('Texto CountVectorizer Unigrama e stopwords com arvore de decisão:', score)"
      ],
      "execution_count": 63,
      "outputs": [
        {
          "output_type": "stream",
          "text": [
            "Texto CountVectorizer Unigrama e stopwords com arvore de decisão: 0.6878427159432746\n"
          ],
          "name": "stdout"
        }
      ]
    },
    {
      "cell_type": "code",
      "metadata": {
        "colab": {
          "base_uri": "https://localhost:8080/"
        },
        "id": "vsJU1_slAVsn",
        "outputId": "afb80093-612e-4299-ddfc-8472c78f728d"
      },
      "source": [
        "# Texto CountVectorizer Bigrama e stopwords com arvore de decisão\n",
        "# treinamento do modelo árvore de decisão\n",
        "tree = DecisionTreeClassifier(random_state=42)\n",
        "tree.fit(text_count2StopVect_train, df_train.sentimento)\n",
        "\n",
        "# escoragem da classificação na amostra de teste\n",
        "text_vect_test = text_count2StopVect.transform(df_test.texto)\n",
        "y_prediction = tree.predict(text_vect_test)\n",
        "\n",
        "# mensuração do resultado pela acurácia\n",
        "score = f1_score(y_prediction, df_test.sentimento, average='weighted')\n",
        "resultado.append(['Texto CountVectorizer Bigrama e stopwords com arvore de decisão', score])\n",
        "print('Texto CountVectorizer Bigrama e stopwords com arvore de decisão:', score)"
      ],
      "execution_count": 64,
      "outputs": [
        {
          "output_type": "stream",
          "text": [
            "Texto CountVectorizer Bigrama e stopwords com arvore de decisão: 0.6689280197713933\n"
          ],
          "name": "stdout"
        }
      ]
    },
    {
      "cell_type": "code",
      "metadata": {
        "colab": {
          "base_uri": "https://localhost:8080/"
        },
        "id": "u7YoTZmkAVsn",
        "outputId": "f9cf2135-354a-4433-d894-773294dbc010"
      },
      "source": [
        "# Texto CountVectorizer Trigrama e stopwords com arvore de decisão\n",
        "# treinamento do modelo árvore de decisão\n",
        "tree = DecisionTreeClassifier(random_state=42)\n",
        "tree.fit(text_count3StopVect_train, df_train.sentimento)\n",
        "\n",
        "# escoragem da classificação na amostra de teste\n",
        "text_vect_test = text_count3StopVect.transform(df_test.texto)\n",
        "y_prediction = tree.predict(text_vect_test)\n",
        "\n",
        "# mensuração do resultado pela acurácia\n",
        "score = f1_score(y_prediction, df_test.sentimento, average='weighted')\n",
        "resultado.append(['Texto CountVectorizer Trigrama e stopwords com arvore de decisão', score])\n",
        "print('Texto CountVectorizer Trigrama e stopwords com arvore de decisão:', score)"
      ],
      "execution_count": 65,
      "outputs": [
        {
          "output_type": "stream",
          "text": [
            "Texto CountVectorizer Trigrama e stopwords com arvore de decisão: 0.6578361325868657\n"
          ],
          "name": "stdout"
        }
      ]
    },
    {
      "cell_type": "markdown",
      "metadata": {
        "id": "IcH_3e7tAVsn"
      },
      "source": [
        "##### TfidfVectorizer"
      ]
    },
    {
      "cell_type": "code",
      "metadata": {
        "colab": {
          "base_uri": "https://localhost:8080/"
        },
        "id": "LaUDJFT4AVsn",
        "outputId": "47001515-ac0b-4054-dde8-30322e10ada3"
      },
      "source": [
        "# Texto TfidfVectorizer Unigrama com arvore de decisão\n",
        "# treinamento do modelo árvore de decisão\n",
        "tree = DecisionTreeClassifier(random_state=42)\n",
        "tree.fit(text_tfidf1Vect_train, df_train.sentimento)\n",
        "\n",
        "# escoragem da classificação na amostra de teste\n",
        "text_vect_test = text_tfidf1Vect.transform(df_test.texto)\n",
        "y_prediction = tree.predict(text_vect_test)\n",
        "\n",
        "# mensuração do resultado pela acurácia\n",
        "score = f1_score(y_prediction, df_test.sentimento, average='weighted')\n",
        "resultado.append(['Texto TfidfVectorizer Unigrama com arvore de decisão', score])\n",
        "print('Texto TfidfVectorizer Unigrama com arvore de decisão:', score)"
      ],
      "execution_count": 66,
      "outputs": [
        {
          "output_type": "stream",
          "text": [
            "Texto TfidfVectorizer Unigrama com arvore de decisão: 0.6560111726245649\n"
          ],
          "name": "stdout"
        }
      ]
    },
    {
      "cell_type": "code",
      "metadata": {
        "colab": {
          "base_uri": "https://localhost:8080/"
        },
        "id": "f3tI8TvbAVsn",
        "outputId": "87779adb-4476-414b-a98c-37deddfdb81c"
      },
      "source": [
        "# Texto TfidfVectorizer Bigrama com arvore de decisão\n",
        "# treinamento do modelo árvore de decisão\n",
        "tree = DecisionTreeClassifier(random_state=42)\n",
        "tree.fit(text_tfidf2Vect_train, df_train.sentimento)\n",
        "\n",
        "# escoragem da classificação na amostra de teste\n",
        "text_vect_test = text_tfidf2Vect.transform(df_test.texto)\n",
        "y_prediction = tree.predict(text_vect_test)\n",
        "\n",
        "# mensuração do resultado pela acurácia\n",
        "score = f1_score(y_prediction, df_test.sentimento, average='weighted')\n",
        "resultado.append(['Texto TfidfVectorizer Bigrama com arvore de decisão', score])\n",
        "print('Texto TfidfVectorizer Bigrama com arvore de decisão:', score)"
      ],
      "execution_count": 67,
      "outputs": [
        {
          "output_type": "stream",
          "text": [
            "Texto TfidfVectorizer Bigrama com arvore de decisão: 0.655388367729831\n"
          ],
          "name": "stdout"
        }
      ]
    },
    {
      "cell_type": "code",
      "metadata": {
        "colab": {
          "base_uri": "https://localhost:8080/"
        },
        "id": "GaaIbpbEAVso",
        "outputId": "21764589-2686-4c3b-a029-4eac8fbed577"
      },
      "source": [
        "# Texto TfidfVectorizer Trigrama com arvore de decisão\n",
        "# treinamento do modelo árvore de decisão\n",
        "tree = DecisionTreeClassifier(random_state=42)\n",
        "tree.fit(text_tfidf3Vect_train, df_train.sentimento)\n",
        "\n",
        "# escoragem da classificação na amostra de teste\n",
        "text_vect_test = text_tfidf3Vect.transform(df_test.texto)\n",
        "y_prediction = tree.predict(text_vect_test)\n",
        "\n",
        "# mensuração do resultado pela acurácia\n",
        "score = f1_score(y_prediction, df_test.sentimento, average='weighted')\n",
        "resultado.append(['Texto TfidfVectorizer Trigrama com arvore de decisão', score])\n",
        "print('Texto TfidfVectorizer Trigrama com arvore de decisão:', score)"
      ],
      "execution_count": 68,
      "outputs": [
        {
          "output_type": "stream",
          "text": [
            "Texto TfidfVectorizer Trigrama com arvore de decisão: 0.5798850574712644\n"
          ],
          "name": "stdout"
        }
      ]
    },
    {
      "cell_type": "markdown",
      "metadata": {
        "id": "2hMpz5VTAVso"
      },
      "source": [
        "##### TfidfVectorizer + Stopwords"
      ]
    },
    {
      "cell_type": "code",
      "metadata": {
        "colab": {
          "base_uri": "https://localhost:8080/"
        },
        "id": "EJjX1wpaAVso",
        "outputId": "581b66ca-143c-471e-910f-8ed61b9e2a16"
      },
      "source": [
        "# Texto TfidfVectorizer Unigrama e stopwords com arvore de decisão\n",
        "# treinamento do modelo árvore de decisão\n",
        "tree = DecisionTreeClassifier(random_state=42)\n",
        "tree.fit(text_tfidf1StopVect_train, df_train.sentimento)\n",
        "\n",
        "# escoragem da classificação na amostra de teste\n",
        "text_vect_test = text_tfidf1StopVect.transform(df_test.texto)\n",
        "y_prediction = tree.predict(text_vect_test)\n",
        "\n",
        "# mensuração do resultado pela acurácia\n",
        "score = f1_score(y_prediction, df_test.sentimento, average='weighted')\n",
        "resultado.append(['Texto TfidfVectorizer Unigrama e stopwords com arvore de decisão', score])\n",
        "print('Texto TfidfVectorizer Unigrama e stopwords com arvore de decisão:', score)"
      ],
      "execution_count": 69,
      "outputs": [
        {
          "output_type": "stream",
          "text": [
            "Texto TfidfVectorizer Unigrama e stopwords com arvore de decisão: 0.6305554999499549\n"
          ],
          "name": "stdout"
        }
      ]
    },
    {
      "cell_type": "code",
      "metadata": {
        "colab": {
          "base_uri": "https://localhost:8080/"
        },
        "id": "h2HDcBwlAVso",
        "outputId": "13030f94-b870-49b6-d31c-27869e692306"
      },
      "source": [
        "# Texto TfidfVectorizer Bigrama e stopwords com arvore de decisão\n",
        "# treinamento do modelo árvore de decisão\n",
        "tree = DecisionTreeClassifier(random_state=42)\n",
        "tree.fit(text_tfidf2StopVect_train, df_train.sentimento)\n",
        "\n",
        "# escoragem da classificação na amostra de teste\n",
        "text_vect_test = text_tfidf2StopVect.transform(df_test.texto)\n",
        "y_prediction = tree.predict(text_vect_test)\n",
        "\n",
        "# mensuração do resultado pela acurácia\n",
        "score = f1_score(y_prediction, df_test.sentimento, average='weighted')\n",
        "resultado.append(['Texto TfidfVectorizer Bigrama e stopwords com arvore de decisão', score])\n",
        "print('Texto TfidfVectorizer Bigrama e stopwords com arvore de decisão:', score)"
      ],
      "execution_count": 70,
      "outputs": [
        {
          "output_type": "stream",
          "text": [
            "Texto TfidfVectorizer Bigrama e stopwords com arvore de decisão: 0.6302964743589743\n"
          ],
          "name": "stdout"
        }
      ]
    },
    {
      "cell_type": "code",
      "metadata": {
        "colab": {
          "base_uri": "https://localhost:8080/"
        },
        "id": "Atipt9EvAVso",
        "outputId": "17926fd4-1dd4-4211-932a-2a02c54d0b1b"
      },
      "source": [
        "# Texto TfidfVectorizer Trigrama e stopwords com arvore de decisão\n",
        "# treinamento do modelo árvore de decisão\n",
        "tree = DecisionTreeClassifier(random_state=42)\n",
        "tree.fit(text_tfidf3StopVect_train, df_train.sentimento)\n",
        "\n",
        "# escoragem da classificação na amostra de teste\n",
        "text_vect_test = text_tfidf3StopVect.transform(df_test.texto)\n",
        "y_prediction = tree.predict(text_vect_test)\n",
        "\n",
        "# mensuração do resultado pela acurácia\n",
        "score = f1_score(y_prediction, df_test.sentimento, average='weighted')\n",
        "resultado.append(['Texto TfidfVectorizer Trigrama e stopwords com arvore de decisão', score])\n",
        "print('Texto TfidfVectorizer Trigrama e stopwords com arvore de decisão:', score)"
      ],
      "execution_count": 71,
      "outputs": [
        {
          "output_type": "stream",
          "text": [
            "Texto TfidfVectorizer Trigrama e stopwords com arvore de decisão: 0.6408363636363638\n"
          ],
          "name": "stdout"
        }
      ]
    },
    {
      "cell_type": "markdown",
      "metadata": {
        "id": "f4eiNR3eMOGH"
      },
      "source": [
        "#### RSLP Stemmer\n",
        "\n"
      ]
    },
    {
      "cell_type": "markdown",
      "metadata": {
        "id": "jpS8ZcsTMOGP"
      },
      "source": [
        "##### CountVectorizer"
      ]
    },
    {
      "cell_type": "code",
      "metadata": {
        "colab": {
          "base_uri": "https://localhost:8080/"
        },
        "id": "b5kgLXnBMOGP",
        "outputId": "f6dced53-1b82-4c19-856f-7b86f55dc398"
      },
      "source": [
        "# RSLP CountVectorizer Unigrama com arvore de decisão\n",
        "# treinamento do modelo árvore de decisão\n",
        "tree = DecisionTreeClassifier(random_state=42)\n",
        "tree.fit(rslp_count1Vect_train, df_train.sentimento)\n",
        "\n",
        "# escoragem da classificação na amostra de teste\n",
        "text_vect_test = rslp_count1Vect.transform(df_test.texto)\n",
        "y_prediction = tree.predict(text_vect_test)\n",
        "\n",
        "# mensuração do resultado pela acurácia\n",
        "score = f1_score(y_prediction, df_test.sentimento, average='weighted')\n",
        "resultado.append(['RSLP CountVectorizer Unigrama com arvore de decisão', score])\n",
        "print('RSLP CountVectorizer Unigrama com arvore de decisão:', score)"
      ],
      "execution_count": 72,
      "outputs": [
        {
          "output_type": "stream",
          "text": [
            "RSLP CountVectorizer Unigrama com arvore de decisão: 0.612313133634669\n"
          ],
          "name": "stdout"
        }
      ]
    },
    {
      "cell_type": "code",
      "metadata": {
        "colab": {
          "base_uri": "https://localhost:8080/"
        },
        "id": "NNGtLMokMOGP",
        "outputId": "5b1eb4d0-2ba2-4aa7-8508-0cece2d24420"
      },
      "source": [
        "# RSLP CountVectorizer Bigrama com arvore de decisão\n",
        "# treinamento do modelo árvore de decisão\n",
        "tree = DecisionTreeClassifier(random_state=42)\n",
        "tree.fit(rslp_count2Vect_train, df_train.sentimento)\n",
        "\n",
        "# escoragem da classificação na amostra de teste\n",
        "text_vect_test = rslp_count2Vect.transform(df_test.texto)\n",
        "y_prediction = tree.predict(text_vect_test)\n",
        "\n",
        "# mensuração do resultado pela acurácia\n",
        "score = f1_score(y_prediction, df_test.sentimento, average='weighted')\n",
        "resultado.append(['RSLP CountVectorizer Bigrama com arvore de decisão', score])\n",
        "print('RSLP CountVectorizer Bigrama com arvore de decisão:', score)"
      ],
      "execution_count": 73,
      "outputs": [
        {
          "output_type": "stream",
          "text": [
            "RSLP CountVectorizer Bigrama com arvore de decisão: 0.6241909150757077\n"
          ],
          "name": "stdout"
        }
      ]
    },
    {
      "cell_type": "code",
      "metadata": {
        "colab": {
          "base_uri": "https://localhost:8080/"
        },
        "id": "6-woAguNMOGQ",
        "outputId": "a441521b-0f5f-4e00-ecd6-ed19a6964b0a"
      },
      "source": [
        "# RSLP CountVectorizer Trigrama com arvore de decisão\n",
        "# treinamento do modelo árvore de decisão\n",
        "tree = DecisionTreeClassifier(random_state=42)\n",
        "tree.fit(rslp_count3Vect_train, df_train.sentimento)\n",
        "\n",
        "# escoragem da classificação na amostra de teste\n",
        "text_vect_test = rslp_count3Vect.transform(df_test.texto)\n",
        "y_prediction = tree.predict(text_vect_test)\n",
        "\n",
        "# mensuração do resultado pela acurácia\n",
        "score = f1_score(y_prediction, df_test.sentimento, average='weighted')\n",
        "resultado.append(['RSLP CountVectorizer Trigrama com arvore de decisão', score])\n",
        "print('RSLP CountVectorizer Trigrama com arvore de decisão:', score)"
      ],
      "execution_count": 74,
      "outputs": [
        {
          "output_type": "stream",
          "text": [
            "RSLP CountVectorizer Trigrama com arvore de decisão: 0.6217312120577768\n"
          ],
          "name": "stdout"
        }
      ]
    },
    {
      "cell_type": "markdown",
      "metadata": {
        "id": "hRAw7KtpMOGQ"
      },
      "source": [
        "##### CountVectorizer + Stopwords"
      ]
    },
    {
      "cell_type": "code",
      "metadata": {
        "colab": {
          "base_uri": "https://localhost:8080/"
        },
        "id": "BHg3mcByMOGQ",
        "outputId": "7579096a-edf0-401b-8708-a12a2cbab2fd"
      },
      "source": [
        "# RSLP CountVectorizer Unigrama e stopwords com arvore de decisão\n",
        "# treinamento do modelo árvore de decisão\n",
        "tree = DecisionTreeClassifier(random_state=42)\n",
        "tree.fit(rslp_count1StopVect_train, df_train.sentimento)\n",
        "\n",
        "# escoragem da classificação na amostra de teste\n",
        "text_vect_test = rslp_count1StopVect.transform(df_test.texto)\n",
        "y_prediction = tree.predict(text_vect_test)\n",
        "\n",
        "# mensuração do resultado pela acurácia\n",
        "score = f1_score(y_prediction, df_test.sentimento, average='weighted')\n",
        "resultado.append(['RSLP CountVectorizer Unigrama e stopwords com arvore de decisão', score])\n",
        "print('RSLP CountVectorizer Unigrama e stopwords com arvore de decisão:', score)"
      ],
      "execution_count": 75,
      "outputs": [
        {
          "output_type": "stream",
          "text": [
            "RSLP CountVectorizer Unigrama e stopwords com arvore de decisão: 0.6547619047619048\n"
          ],
          "name": "stdout"
        }
      ]
    },
    {
      "cell_type": "code",
      "metadata": {
        "colab": {
          "base_uri": "https://localhost:8080/"
        },
        "id": "vOv5cooUMOGQ",
        "outputId": "c8cfcc24-5526-4552-a91e-8bce4ef6b511"
      },
      "source": [
        "# RSLP CountVectorizer Bigrama e stopwords com arvore de decisão\n",
        "# treinamento do modelo árvore de decisão\n",
        "tree = DecisionTreeClassifier(random_state=42)\n",
        "tree.fit(rslp_count2StopVect_train, df_train.sentimento)\n",
        "\n",
        "# escoragem da classificação na amostra de teste\n",
        "text_vect_test = rslp_count2StopVect.transform(df_test.texto)\n",
        "y_prediction = tree.predict(text_vect_test)\n",
        "\n",
        "# mensuração do resultado pela acurácia\n",
        "score = f1_score(y_prediction, df_test.sentimento, average='weighted')\n",
        "resultado.append(['RSLP CountVectorizer Bigrama e stopwords com arvore de decisão', score])\n",
        "print('RSLP CountVectorizer Bigrama e stopwords com arvore de decisão:', score)"
      ],
      "execution_count": 76,
      "outputs": [
        {
          "output_type": "stream",
          "text": [
            "RSLP CountVectorizer Bigrama e stopwords com arvore de decisão: 0.6735751442353164\n"
          ],
          "name": "stdout"
        }
      ]
    },
    {
      "cell_type": "code",
      "metadata": {
        "colab": {
          "base_uri": "https://localhost:8080/"
        },
        "id": "nrjPgRj9MOGQ",
        "outputId": "64530791-fb77-499f-affe-9e4475e6bba7"
      },
      "source": [
        "# RSLP CountVectorizer Trigrama e stopwords com arvore de decisão\n",
        "# treinamento do modelo árvore de decisão\n",
        "tree = DecisionTreeClassifier(random_state=42)\n",
        "tree.fit(rslp_count3StopVect_train, df_train.sentimento)\n",
        "\n",
        "# escoragem da classificação na amostra de teste\n",
        "text_vect_test = rslp_count3StopVect.transform(df_test.texto)\n",
        "y_prediction = tree.predict(text_vect_test)\n",
        "\n",
        "# mensuração do resultado pela acurácia\n",
        "score = f1_score(y_prediction, df_test.sentimento, average='weighted')\n",
        "resultado.append(['RSLP CountVectorizer Trigrama e stopwords com arvore de decisão', score])\n",
        "print('RSLP CountVectorizer Trigrama e stopwords com arvore de decisão:', score)"
      ],
      "execution_count": 77,
      "outputs": [
        {
          "output_type": "stream",
          "text": [
            "RSLP CountVectorizer Trigrama e stopwords com arvore de decisão: 0.6677408637873755\n"
          ],
          "name": "stdout"
        }
      ]
    },
    {
      "cell_type": "markdown",
      "metadata": {
        "id": "eGRwUg5DMOGR"
      },
      "source": [
        "##### TfidfVectorizer"
      ]
    },
    {
      "cell_type": "code",
      "metadata": {
        "colab": {
          "base_uri": "https://localhost:8080/"
        },
        "id": "vvUKZBwtMOGR",
        "outputId": "c767cf09-9b17-48b5-a5c9-952e01f77d5b"
      },
      "source": [
        "# RSLP TfidfVectorizer Unigrama com arvore de decisão\n",
        "# treinamento do modelo árvore de decisão\n",
        "tree = DecisionTreeClassifier(random_state=42)\n",
        "tree.fit(rslp_tfidf1Vect_train, df_train.sentimento)\n",
        "\n",
        "# escoragem da classificação na amostra de teste\n",
        "text_vect_test = rslp_tfidf1Vect.transform(df_test.texto)\n",
        "y_prediction = tree.predict(text_vect_test)\n",
        "\n",
        "# mensuração do resultado pela acurácia\n",
        "score = f1_score(y_prediction, df_test.sentimento, average='weighted')\n",
        "resultado.append(['RSLP TfidfVectorizer Unigrama com arvore de decisão', score])\n",
        "print('RSLP TfidfVectorizer Unigrama com arvore de decisão:', score)"
      ],
      "execution_count": 78,
      "outputs": [
        {
          "output_type": "stream",
          "text": [
            "RSLP TfidfVectorizer Unigrama com arvore de decisão: 0.658819639735502\n"
          ],
          "name": "stdout"
        }
      ]
    },
    {
      "cell_type": "code",
      "metadata": {
        "colab": {
          "base_uri": "https://localhost:8080/"
        },
        "id": "1kP3tRIUMOGR",
        "outputId": "d862dc16-12dc-486f-cc0a-09962b465418"
      },
      "source": [
        "# RSLP TfidfVectorizer Bigrama com arvore de decisão\n",
        "# treinamento do modelo árvore de decisão\n",
        "tree = DecisionTreeClassifier(random_state=42)\n",
        "tree.fit(rslp_tfidf2Vect_train, df_train.sentimento)\n",
        "\n",
        "# escoragem da classificação na amostra de teste\n",
        "text_vect_test = rslp_tfidf2Vect.transform(df_test.texto)\n",
        "y_prediction = tree.predict(text_vect_test)\n",
        "\n",
        "# mensuração do resultado pela acurácia\n",
        "score = f1_score(y_prediction, df_test.sentimento, average='weighted')\n",
        "resultado.append(['RSLP TfidfVectorizer Bigrama com arvore de decisão', score])\n",
        "print('RSLP TfidfVectorizer Bigrama com arvore de decisão:', score)"
      ],
      "execution_count": 79,
      "outputs": [
        {
          "output_type": "stream",
          "text": [
            "RSLP TfidfVectorizer Bigrama com arvore de decisão: 0.6475524105048058\n"
          ],
          "name": "stdout"
        }
      ]
    },
    {
      "cell_type": "code",
      "metadata": {
        "colab": {
          "base_uri": "https://localhost:8080/"
        },
        "id": "aCxRp0hQMOGR",
        "outputId": "5af024d6-dd44-408b-9b74-5998d387a221"
      },
      "source": [
        "# RSLP TfidfVectorizer Trigrama com arvore de decisão\n",
        "# treinamento do modelo árvore de decisão\n",
        "tree = DecisionTreeClassifier(random_state=42)\n",
        "tree.fit(rslp_tfidf3Vect_train, df_train.sentimento)\n",
        "\n",
        "# escoragem da classificação na amostra de teste\n",
        "text_vect_test = rslp_tfidf3Vect.transform(df_test.texto)\n",
        "y_prediction = tree.predict(text_vect_test)\n",
        "\n",
        "# mensuração do resultado pela acurácia\n",
        "score = f1_score(y_prediction, df_test.sentimento, average='weighted')\n",
        "resultado.append(['RSLP TfidfVectorizer Trigrama com arvore de decisão', score])\n",
        "print('RSLP TfidfVectorizer Trigrama com arvore de decisão:', score)"
      ],
      "execution_count": 80,
      "outputs": [
        {
          "output_type": "stream",
          "text": [
            "RSLP TfidfVectorizer Trigrama com arvore de decisão: 0.6316574653416759\n"
          ],
          "name": "stdout"
        }
      ]
    },
    {
      "cell_type": "markdown",
      "metadata": {
        "id": "BTH2xdeRMOGR"
      },
      "source": [
        "##### TfidfVectorizer + Stopwords"
      ]
    },
    {
      "cell_type": "code",
      "metadata": {
        "colab": {
          "base_uri": "https://localhost:8080/"
        },
        "id": "3eqxTVP4MOGR",
        "outputId": "21b0ab29-04ae-4ff5-a534-2198d1002ba6"
      },
      "source": [
        "# RSLP TfidfVectorizer Unigrama e stopwords com arvore de decisão\n",
        "# treinamento do modelo árvore de decisão\n",
        "tree = DecisionTreeClassifier(random_state=42)\n",
        "tree.fit(rslp_tfidf1StopVect_train, df_train.sentimento)\n",
        "\n",
        "# escoragem da classificação na amostra de teste\n",
        "text_vect_test = rslp_tfidf1StopVect.transform(df_test.texto)\n",
        "y_prediction = tree.predict(text_vect_test)\n",
        "\n",
        "# mensuração do resultado pela acurácia\n",
        "score = f1_score(y_prediction, df_test.sentimento, average='weighted')\n",
        "resultado.append(['RSLP TfidfVectorizer Unigrama e stopwords com arvore de decisão', score])\n",
        "print('RSLP TfidfVectorizer Unigrama e stopwords com arvore de decisão:', score)"
      ],
      "execution_count": 81,
      "outputs": [
        {
          "output_type": "stream",
          "text": [
            "RSLP TfidfVectorizer Unigrama e stopwords com arvore de decisão: 0.6309299483079117\n"
          ],
          "name": "stdout"
        }
      ]
    },
    {
      "cell_type": "code",
      "metadata": {
        "colab": {
          "base_uri": "https://localhost:8080/"
        },
        "id": "XbI7mfW6MOGS",
        "outputId": "1e37520c-37d6-45cd-d510-14fae892c7c9"
      },
      "source": [
        "# RSLP TfidfVectorizer Bigrama e stopwords com arvore de decisão\n",
        "# treinamento do modelo árvore de decisão\n",
        "tree = DecisionTreeClassifier(random_state=42)\n",
        "tree.fit(rslp_tfidf2StopVect_train, df_train.sentimento)\n",
        "\n",
        "# escoragem da classificação na amostra de teste\n",
        "text_vect_test = rslp_tfidf2StopVect.transform(df_test.texto)\n",
        "y_prediction = tree.predict(text_vect_test)\n",
        "\n",
        "# mensuração do resultado pela acurácia\n",
        "score = f1_score(y_prediction, df_test.sentimento, average='weighted')\n",
        "resultado.append(['RSLP TfidfVectorizer Bigrama e stopwords com arvore de decisão', score])\n",
        "print('RSLP TfidfVectorizer Bigrama e stopwords com arvore de decisão:', score)"
      ],
      "execution_count": 82,
      "outputs": [
        {
          "output_type": "stream",
          "text": [
            "RSLP TfidfVectorizer Bigrama e stopwords com arvore de decisão: 0.6735751442353164\n"
          ],
          "name": "stdout"
        }
      ]
    },
    {
      "cell_type": "code",
      "metadata": {
        "colab": {
          "base_uri": "https://localhost:8080/"
        },
        "id": "l57p_VKvMOGS",
        "outputId": "097a66be-205c-43db-88b4-dd2909a2f95f"
      },
      "source": [
        "# RSLP TfidfVectorizer Trigrama e stopwords com arvore de decisão\n",
        "# treinamento do modelo árvore de decisão\n",
        "tree = DecisionTreeClassifier(random_state=42)\n",
        "tree.fit(rslp_tfidf3StopVect_train, df_train.sentimento)\n",
        "\n",
        "# escoragem da classificação na amostra de teste\n",
        "text_vect_test = rslp_tfidf3StopVect.transform(df_test.texto)\n",
        "y_prediction = tree.predict(text_vect_test)\n",
        "\n",
        "# mensuração do resultado pela acurácia\n",
        "score = f1_score(y_prediction, df_test.sentimento, average='weighted')\n",
        "resultado.append(['RSLP TfidfVectorizer Trigrama e stopwords com arvore de decisão', score])\n",
        "print('RSLP TfidfVectorizer Trigrama e stopwords com arvore de decisão:', score)"
      ],
      "execution_count": 83,
      "outputs": [
        {
          "output_type": "stream",
          "text": [
            "RSLP TfidfVectorizer Trigrama e stopwords com arvore de decisão: 0.6677408637873755\n"
          ],
          "name": "stdout"
        }
      ]
    },
    {
      "cell_type": "markdown",
      "metadata": {
        "id": "gSuUldn2MPCF"
      },
      "source": [
        "#### Snowball Stemmer\n",
        "\n"
      ]
    },
    {
      "cell_type": "markdown",
      "metadata": {
        "id": "HRyIcxvEMPCF"
      },
      "source": [
        "##### CountVectorizer"
      ]
    },
    {
      "cell_type": "code",
      "metadata": {
        "colab": {
          "base_uri": "https://localhost:8080/"
        },
        "id": "-wdig4sXMPCF",
        "outputId": "90163a8a-5e6c-4edf-8aee-9d496d8c86cb"
      },
      "source": [
        "# Snowball CountVectorizer Unigrama com arvore de decisão\n",
        "# treinamento do modelo árvore de decisão\n",
        "tree = DecisionTreeClassifier(random_state=42)\n",
        "tree.fit(snow_count1Vect_train, df_train.sentimento)\n",
        "\n",
        "# escoragem da classificação na amostra de teste\n",
        "text_vect_test = snow_count1Vect.transform(df_test.texto)\n",
        "y_prediction = tree.predict(text_vect_test)\n",
        "\n",
        "# mensuração do resultado pela acurácia\n",
        "score = f1_score(y_prediction, df_test.sentimento, average='weighted')\n",
        "resultado.append(['Snowball CountVectorizer Unigrama com arvore de decisão', score])\n",
        "print('Snowball CountVectorizer Unigrama com arvore de decisão:', score)"
      ],
      "execution_count": 84,
      "outputs": [
        {
          "output_type": "stream",
          "text": [
            "Snowball CountVectorizer Unigrama com arvore de decisão: 0.6535\n"
          ],
          "name": "stdout"
        }
      ]
    },
    {
      "cell_type": "code",
      "metadata": {
        "colab": {
          "base_uri": "https://localhost:8080/"
        },
        "id": "zo6gGZjKMPCG",
        "outputId": "66de07e7-2bd5-40d4-dcaf-66ad7669d3fd"
      },
      "source": [
        "# Snowball CountVectorizer Bigrama com arvore de decisão\n",
        "# treinamento do modelo árvore de decisão\n",
        "tree = DecisionTreeClassifier(random_state=42)\n",
        "tree.fit(snow_count2Vect_train, df_train.sentimento)\n",
        "\n",
        "# escoragem da classificação na amostra de teste\n",
        "text_vect_test = snow_count2Vect.transform(df_test.texto)\n",
        "y_prediction = tree.predict(text_vect_test)\n",
        "\n",
        "# mensuração do resultado pela acurácia\n",
        "score = f1_score(y_prediction, df_test.sentimento, average='weighted')\n",
        "resultado.append(['Snowball CountVectorizer Bigrama com arvore de decisão', score])\n",
        "print('Snowball CountVectorizer Bigrama com arvore de decisão:', score)"
      ],
      "execution_count": 85,
      "outputs": [
        {
          "output_type": "stream",
          "text": [
            "Snowball CountVectorizer Bigrama com arvore de decisão: 0.6033650318452645\n"
          ],
          "name": "stdout"
        }
      ]
    },
    {
      "cell_type": "code",
      "metadata": {
        "colab": {
          "base_uri": "https://localhost:8080/"
        },
        "id": "1sU_aUnPMPCG",
        "outputId": "0003c68f-a61a-4fcf-cfeb-d274dc33f6c6"
      },
      "source": [
        "# Snowball CountVectorizer Trigrama com arvore de decisão\n",
        "# treinamento do modelo árvore de decisão\n",
        "tree = DecisionTreeClassifier(random_state=42)\n",
        "tree.fit(snow_count3Vect_train, df_train.sentimento)\n",
        "\n",
        "# escoragem da classificação na amostra de teste\n",
        "text_vect_test = snow_count3Vect.transform(df_test.texto)\n",
        "y_prediction = tree.predict(text_vect_test)\n",
        "\n",
        "# mensuração do resultado pela acurácia\n",
        "score = f1_score(y_prediction, df_test.sentimento, average='weighted')\n",
        "resultado.append(['Snowball CountVectorizer Trigrama com arvore de decisão', score])\n",
        "print('Snowball CountVectorizer Trigrama com arvore de decisão:', score)"
      ],
      "execution_count": 86,
      "outputs": [
        {
          "output_type": "stream",
          "text": [
            "Snowball CountVectorizer Trigrama com arvore de decisão: 0.628416877028489\n"
          ],
          "name": "stdout"
        }
      ]
    },
    {
      "cell_type": "markdown",
      "metadata": {
        "id": "fc6nXbUmMPCG"
      },
      "source": [
        "##### CountVectorizer + Stopwords"
      ]
    },
    {
      "cell_type": "code",
      "metadata": {
        "colab": {
          "base_uri": "https://localhost:8080/"
        },
        "id": "ZI2WgzepMPCG",
        "outputId": "0e9887a1-3472-4161-bf94-7b5e28153e45"
      },
      "source": [
        "# Snowball CountVectorizer Unigrama e stopwords com arvore de decisão\n",
        "# treinamento do modelo árvore de decisão\n",
        "tree = DecisionTreeClassifier(random_state=42)\n",
        "tree.fit(snow_count1StopVect_train, df_train.sentimento)\n",
        "\n",
        "# escoragem da classificação na amostra de teste\n",
        "text_vect_test = snow_count1StopVect.transform(df_test.texto)\n",
        "y_prediction = tree.predict(text_vect_test)\n",
        "\n",
        "# mensuração do resultado pela acurácia\n",
        "score = f1_score(y_prediction, df_test.sentimento, average='weighted')\n",
        "resultado.append(['Snowball CountVectorizer Unigrama e stopwords com arvore de decisão', score])\n",
        "print('Snowball CountVectorizer Unigrama e stopwords com arvore de decisão:', score)"
      ],
      "execution_count": 87,
      "outputs": [
        {
          "output_type": "stream",
          "text": [
            "Snowball CountVectorizer Unigrama e stopwords com arvore de decisão: 0.6442068965517241\n"
          ],
          "name": "stdout"
        }
      ]
    },
    {
      "cell_type": "code",
      "metadata": {
        "colab": {
          "base_uri": "https://localhost:8080/"
        },
        "id": "UM_5AoBKMPCG",
        "outputId": "cd5c9c2d-52eb-4ba4-c0a2-87b91b458aae"
      },
      "source": [
        "# Snowball CountVectorizer Bigrama e stopwords com arvore de decisão\n",
        "# treinamento do modelo árvore de decisão\n",
        "tree = DecisionTreeClassifier(random_state=42)\n",
        "tree.fit(snow_count2StopVect_train, df_train.sentimento)\n",
        "\n",
        "# escoragem da classificação na amostra de teste\n",
        "text_vect_test = snow_count2StopVect.transform(df_test.texto)\n",
        "y_prediction = tree.predict(text_vect_test)\n",
        "\n",
        "# mensuração do resultado pela acurácia\n",
        "score = f1_score(y_prediction, df_test.sentimento, average='weighted')\n",
        "resultado.append(['Snowball CountVectorizer Bigrama e stopwords com arvore de decisão', score])\n",
        "print('Snowball CountVectorizer Bigrama e stopwords com arvore de decisão:', score)"
      ],
      "execution_count": 88,
      "outputs": [
        {
          "output_type": "stream",
          "text": [
            "Snowball CountVectorizer Bigrama e stopwords com arvore de decisão: 0.6754966887417219\n"
          ],
          "name": "stdout"
        }
      ]
    },
    {
      "cell_type": "code",
      "metadata": {
        "colab": {
          "base_uri": "https://localhost:8080/"
        },
        "id": "_atZlIXMMPCG",
        "outputId": "6e394474-38dd-476d-d7ea-7431a1bdb922"
      },
      "source": [
        "# Snowball CountVectorizer Trigrama e stopwords com arvore de decisão\n",
        "# treinamento do modelo árvore de decisão\n",
        "tree = DecisionTreeClassifier(random_state=42)\n",
        "tree.fit(snow_count3StopVect_train, df_train.sentimento)\n",
        "\n",
        "# escoragem da classificação na amostra de teste\n",
        "text_vect_test = snow_count3StopVect.transform(df_test.texto)\n",
        "y_prediction = tree.predict(text_vect_test)\n",
        "\n",
        "# mensuração do resultado pela acurácia\n",
        "score = f1_score(y_prediction, df_test.sentimento, average='weighted')\n",
        "resultado.append(['Snowball CountVectorizer Trigrama e stopwords com arvore de decisão', score])\n",
        "print('Snowball CountVectorizer Trigrama e stopwords com arvore de decisão:', score)"
      ],
      "execution_count": 89,
      "outputs": [
        {
          "output_type": "stream",
          "text": [
            "Snowball CountVectorizer Trigrama e stopwords com arvore de decisão: 0.6677408637873755\n"
          ],
          "name": "stdout"
        }
      ]
    },
    {
      "cell_type": "markdown",
      "metadata": {
        "id": "E2p35LnFMPCG"
      },
      "source": [
        "##### TfidfVectorizer"
      ]
    },
    {
      "cell_type": "code",
      "metadata": {
        "colab": {
          "base_uri": "https://localhost:8080/"
        },
        "id": "HUEK47NuMPCG",
        "outputId": "1e85182a-7120-4bff-d41f-1aece8bd0c1d"
      },
      "source": [
        "# Snowball TfidfVectorizer Unigrama com arvore de decisão\n",
        "# treinamento do modelo árvore de decisão\n",
        "tree = DecisionTreeClassifier(random_state=42)\n",
        "tree.fit(snow_tfidf1Vect_train, df_train.sentimento)\n",
        "\n",
        "# escoragem da classificação na amostra de teste\n",
        "text_vect_test = snow_tfidf1Vect.transform(df_test.texto)\n",
        "y_prediction = tree.predict(text_vect_test)\n",
        "\n",
        "# mensuração do resultado pela acurácia\n",
        "score = f1_score(y_prediction, df_test.sentimento, average='weighted')\n",
        "resultado.append(['Snowball TfidfVectorizer Unigrama com arvore de decisão', score])\n",
        "print('Snowball TfidfVectorizer Unigrama com arvore de decisão:', score)"
      ],
      "execution_count": 90,
      "outputs": [
        {
          "output_type": "stream",
          "text": [
            "Snowball TfidfVectorizer Unigrama com arvore de decisão: 0.6940265343544385\n"
          ],
          "name": "stdout"
        }
      ]
    },
    {
      "cell_type": "code",
      "metadata": {
        "colab": {
          "base_uri": "https://localhost:8080/"
        },
        "id": "W5MLcfo7MPCH",
        "outputId": "ba22905f-ff34-4ed5-f1cc-0c285436f145"
      },
      "source": [
        "# Snowball TfidfVectorizer Bigrama com arvore de decisão\n",
        "# treinamento do modelo árvore de decisão\n",
        "tree = DecisionTreeClassifier(random_state=42)\n",
        "tree.fit(snow_tfidf2Vect_train, df_train.sentimento)\n",
        "\n",
        "# escoragem da classificação na amostra de teste\n",
        "text_vect_test = snow_tfidf2Vect.transform(df_test.texto)\n",
        "y_prediction = tree.predict(text_vect_test)\n",
        "\n",
        "# mensuração do resultado pela acurácia\n",
        "score = f1_score(y_prediction, df_test.sentimento, average='weighted')\n",
        "resultado.append(['Snowball TfidfVectorizer Bigrama com arvore de decisão', score])\n",
        "print('Snowball TfidfVectorizer Bigrama com arvore de decisão:', score)"
      ],
      "execution_count": 91,
      "outputs": [
        {
          "output_type": "stream",
          "text": [
            "Snowball TfidfVectorizer Bigrama com arvore de decisão: 0.5285712443584785\n"
          ],
          "name": "stdout"
        }
      ]
    },
    {
      "cell_type": "code",
      "metadata": {
        "colab": {
          "base_uri": "https://localhost:8080/"
        },
        "id": "eNG0MWKmMPCH",
        "outputId": "2953900a-079a-4698-c987-8ec8fb23d22e"
      },
      "source": [
        "# Snowball TfidfVectorizer Trigrama com arvore de decisão\n",
        "# treinamento do modelo árvore de decisão\n",
        "tree = DecisionTreeClassifier(random_state=42)\n",
        "tree.fit(snow_tfidf3Vect_train, df_train.sentimento)\n",
        "\n",
        "# escoragem da classificação na amostra de teste\n",
        "text_vect_test = snow_tfidf3Vect.transform(df_test.texto)\n",
        "y_prediction = tree.predict(text_vect_test)\n",
        "\n",
        "# mensuração do resultado pela acurácia\n",
        "score = f1_score(y_prediction, df_test.sentimento, average='weighted')\n",
        "resultado.append(['Snowball TfidfVectorizer Trigrama com arvore de decisão', score])\n",
        "print('Snowball TfidfVectorizer Trigrama com arvore de decisão:', score)"
      ],
      "execution_count": 92,
      "outputs": [
        {
          "output_type": "stream",
          "text": [
            "Snowball TfidfVectorizer Trigrama com arvore de decisão: 0.612261089073206\n"
          ],
          "name": "stdout"
        }
      ]
    },
    {
      "cell_type": "markdown",
      "metadata": {
        "id": "fpe8kpA6MPCH"
      },
      "source": [
        "##### TfidfVectorizer + Stopwords"
      ]
    },
    {
      "cell_type": "code",
      "metadata": {
        "colab": {
          "base_uri": "https://localhost:8080/"
        },
        "id": "eu4g94wvMPCH",
        "outputId": "bc38b87c-75f4-4103-e7ea-9d830278a06c"
      },
      "source": [
        "# Snowball TfidfVectorizer Unigrama e stopwords com arvore de decisão\n",
        "# treinamento do modelo árvore de decisão\n",
        "tree = DecisionTreeClassifier(random_state=42)\n",
        "tree.fit(snow_tfidf1StopVect_train, df_train.sentimento)\n",
        "\n",
        "# escoragem da classificação na amostra de teste\n",
        "text_vect_test = snow_tfidf1StopVect.transform(df_test.texto)\n",
        "y_prediction = tree.predict(text_vect_test)\n",
        "\n",
        "# mensuração do resultado pela acurácia\n",
        "score = f1_score(y_prediction, df_test.sentimento, average='weighted')\n",
        "resultado.append(['Snowball TfidfVectorizer Unigrama e stopwords com arvore de decisão', score])\n",
        "print('Snowball TfidfVectorizer Unigrama e stopwords com arvore de decisão:', score)"
      ],
      "execution_count": 93,
      "outputs": [
        {
          "output_type": "stream",
          "text": [
            "Snowball TfidfVectorizer Unigrama e stopwords com arvore de decisão: 0.632989898989899\n"
          ],
          "name": "stdout"
        }
      ]
    },
    {
      "cell_type": "code",
      "metadata": {
        "colab": {
          "base_uri": "https://localhost:8080/"
        },
        "id": "GJv0sDkHMPCI",
        "outputId": "b709b0ab-5aa5-4da5-dd04-ae70d99c5699"
      },
      "source": [
        "# Snowball TfidfVectorizer Bigrama e stopwords com arvore de decisão\n",
        "# treinamento do modelo árvore de decisão\n",
        "tree = DecisionTreeClassifier(random_state=42)\n",
        "tree.fit(snow_tfidf2StopVect_train, df_train.sentimento)\n",
        "\n",
        "# escoragem da classificação na amostra de teste\n",
        "text_vect_test = snow_tfidf2StopVect.transform(df_test.texto)\n",
        "y_prediction = tree.predict(text_vect_test)\n",
        "\n",
        "# mensuração do resultado pela acurácia\n",
        "score = f1_score(y_prediction, df_test.sentimento, average='weighted')\n",
        "resultado.append(['Snowball TfidfVectorizer Bigrama e stopwords com arvore de decisão', score])\n",
        "print('Snowball TfidfVectorizer Bigrama e stopwords com arvore de decisão:', score)"
      ],
      "execution_count": 94,
      "outputs": [
        {
          "output_type": "stream",
          "text": [
            "Snowball TfidfVectorizer Bigrama e stopwords com arvore de decisão: 0.6668\n"
          ],
          "name": "stdout"
        }
      ]
    },
    {
      "cell_type": "code",
      "metadata": {
        "colab": {
          "base_uri": "https://localhost:8080/"
        },
        "id": "GehJeK8hMPCI",
        "outputId": "1414053b-f7ff-4afb-9ff7-736aaa90703b"
      },
      "source": [
        "# Snowball TfidfVectorizer Trigrama e stopwords com arvore de decisão\n",
        "# treinamento do modelo árvore de decisão\n",
        "tree = DecisionTreeClassifier(random_state=42)\n",
        "tree.fit(snow_tfidf3StopVect_train, df_train.sentimento)\n",
        "\n",
        "# escoragem da classificação na amostra de teste\n",
        "text_vect_test = snow_tfidf3StopVect.transform(df_test.texto)\n",
        "y_prediction = tree.predict(text_vect_test)\n",
        "\n",
        "# mensuração do resultado pela acurácia\n",
        "score = f1_score(y_prediction, df_test.sentimento, average='weighted')\n",
        "resultado.append(['Snowball TfidfVectorizer Trigrama e stopwords com arvore de decisão', score])\n",
        "print('Snowball TfidfVectorizer Trigrama e stopwords com arvore de decisão:', score)"
      ],
      "execution_count": 95,
      "outputs": [
        {
          "output_type": "stream",
          "text": [
            "Snowball TfidfVectorizer Trigrama e stopwords com arvore de decisão: 0.6677408637873755\n"
          ],
          "name": "stdout"
        }
      ]
    },
    {
      "cell_type": "markdown",
      "metadata": {
        "id": "ZdsbjaGbuML9"
      },
      "source": [
        "#### Lemma\n",
        "\n"
      ]
    },
    {
      "cell_type": "markdown",
      "metadata": {
        "id": "e3Lcr00PuMMF"
      },
      "source": [
        "##### CountVectorizer"
      ]
    },
    {
      "cell_type": "code",
      "metadata": {
        "colab": {
          "base_uri": "https://localhost:8080/"
        },
        "id": "xBZlGGoEuMMG",
        "outputId": "3b16b092-c00e-4508-8e99-1126282491f6"
      },
      "source": [
        "# Lemma CountVectorizer Unigrama com arvore de decisão\n",
        "# treinamento do modelo árvore de decisão\n",
        "tree = DecisionTreeClassifier(random_state=42)\n",
        "tree.fit(lemma_count1Vect_train, df_train.sentimento)\n",
        "\n",
        "# escoragem da classificação na amostra de teste\n",
        "text_vect_test = lemma_count1Vect.transform(df_test.texto)\n",
        "y_prediction = tree.predict(text_vect_test)\n",
        "\n",
        "# mensuração do resultado pela acurácia\n",
        "score = f1_score(y_prediction, df_test.sentimento, average='weighted')\n",
        "resultado.append(['Lemma CountVectorizer Unigrama com arvore de decisão', score])\n",
        "print('Lemma CountVectorizer Unigrama com arvore de decisão:', score)"
      ],
      "execution_count": 96,
      "outputs": [
        {
          "output_type": "stream",
          "text": [
            "Lemma CountVectorizer Unigrama com arvore de decisão: 0.6702974204884012\n"
          ],
          "name": "stdout"
        }
      ]
    },
    {
      "cell_type": "code",
      "metadata": {
        "colab": {
          "base_uri": "https://localhost:8080/"
        },
        "id": "6sye9KK0uMMG",
        "outputId": "d5d633e0-e5bd-46b6-8434-2a6ab983058c"
      },
      "source": [
        "# Lemma CountVectorizer Bigrama com arvore de decisão\n",
        "# treinamento do modelo árvore de decisão\n",
        "tree = DecisionTreeClassifier(random_state=42)\n",
        "tree.fit(lemma_count2Vect_train, df_train.sentimento)\n",
        "\n",
        "# escoragem da classificação na amostra de teste\n",
        "text_vect_test = lemma_count2Vect.transform(df_test.texto)\n",
        "y_prediction = tree.predict(text_vect_test)\n",
        "\n",
        "# mensuração do resultado pela acurácia\n",
        "score = f1_score(y_prediction, df_test.sentimento, average='weighted')\n",
        "resultado.append(['Lemma CountVectorizer Bigrama com arvore de decisão', score])\n",
        "print('Lemma CountVectorizer Bigrama com arvore de decisão:', score)"
      ],
      "execution_count": 97,
      "outputs": [
        {
          "output_type": "stream",
          "text": [
            "Lemma CountVectorizer Bigrama com arvore de decisão: 0.595648452929559\n"
          ],
          "name": "stdout"
        }
      ]
    },
    {
      "cell_type": "code",
      "metadata": {
        "colab": {
          "base_uri": "https://localhost:8080/"
        },
        "id": "i3H6uN9juMMH",
        "outputId": "85579b0b-dfc7-4f04-c47a-d2e9baee99b7"
      },
      "source": [
        "# Lemma CountVectorizer Trigrama com arvore de decisão\n",
        "# treinamento do modelo árvore de decisão\n",
        "tree = DecisionTreeClassifier(random_state=42)\n",
        "tree.fit(lemma_count3Vect_train, df_train.sentimento)\n",
        "\n",
        "# escoragem da classificação na amostra de teste\n",
        "text_vect_test = lemma_count3Vect.transform(df_test.texto)\n",
        "y_prediction = tree.predict(text_vect_test)\n",
        "\n",
        "# mensuração do resultado pela acurácia\n",
        "score = f1_score(y_prediction, df_test.sentimento, average='weighted')\n",
        "resultado.append(['Lemma CountVectorizer Trigrama com arvore de decisão', score])\n",
        "print('Lemma CountVectorizer Trigrama com arvore de decisão:', score)"
      ],
      "execution_count": 98,
      "outputs": [
        {
          "output_type": "stream",
          "text": [
            "Lemma CountVectorizer Trigrama com arvore de decisão: 0.6135963994138579\n"
          ],
          "name": "stdout"
        }
      ]
    },
    {
      "cell_type": "markdown",
      "metadata": {
        "id": "0j-xDOVYuMMH"
      },
      "source": [
        "##### CountVectorizer + Stopwords"
      ]
    },
    {
      "cell_type": "code",
      "metadata": {
        "colab": {
          "base_uri": "https://localhost:8080/"
        },
        "id": "qLyjMH4RuMMH",
        "outputId": "b27adb69-29ad-4135-bd43-a062150c4d25"
      },
      "source": [
        "# Lemma CountVectorizer Unigrama e stopwords com arvore de decisão\n",
        "# treinamento do modelo árvore de decisão\n",
        "tree = DecisionTreeClassifier(random_state=42)\n",
        "tree.fit(lemma_count1StopVect_train, df_train.sentimento)\n",
        "\n",
        "# escoragem da classificação na amostra de teste\n",
        "text_vect_test = lemma_count1StopVect.transform(df_test.texto)\n",
        "y_prediction = tree.predict(text_vect_test)\n",
        "\n",
        "# mensuração do resultado pela acurácia\n",
        "score = f1_score(y_prediction, df_test.sentimento, average='weighted')\n",
        "resultado.append(['Lemma CountVectorizer Unigrama e stopwords com arvore de decisão', score])\n",
        "print('Lemma CountVectorizer Unigrama e stopwords com arvore de decisão:', score)"
      ],
      "execution_count": 99,
      "outputs": [
        {
          "output_type": "stream",
          "text": [
            "Lemma CountVectorizer Unigrama e stopwords com arvore de decisão: 0.6450543780265143\n"
          ],
          "name": "stdout"
        }
      ]
    },
    {
      "cell_type": "code",
      "metadata": {
        "colab": {
          "base_uri": "https://localhost:8080/"
        },
        "id": "iNoMPEEluMMH",
        "outputId": "8972cc75-fdef-45be-92d4-cddcb3a998ee"
      },
      "source": [
        "# Lemma CountVectorizer Bigrama e stopwords com arvore de decisão\n",
        "# treinamento do modelo árvore de decisão\n",
        "tree = DecisionTreeClassifier(random_state=42)\n",
        "tree.fit(lemma_count2StopVect_train, df_train.sentimento)\n",
        "\n",
        "# escoragem da classificação na amostra de teste\n",
        "text_vect_test = lemma_count2StopVect.transform(df_test.texto)\n",
        "y_prediction = tree.predict(text_vect_test)\n",
        "\n",
        "# mensuração do resultado pela acurácia\n",
        "score = f1_score(y_prediction, df_test.sentimento, average='weighted')\n",
        "resultado.append(['Lemma CountVectorizer Bigrama e stopwords com arvore de decisão', score])\n",
        "print('Lemma CountVectorizer Bigrama e stopwords com arvore de decisão:', score)"
      ],
      "execution_count": 100,
      "outputs": [
        {
          "output_type": "stream",
          "text": [
            "Lemma CountVectorizer Bigrama e stopwords com arvore de decisão: 0.6577130977130976\n"
          ],
          "name": "stdout"
        }
      ]
    },
    {
      "cell_type": "code",
      "metadata": {
        "colab": {
          "base_uri": "https://localhost:8080/"
        },
        "id": "x1Cm0HYJuMMI",
        "outputId": "b077fa48-b53e-4501-bddc-32b141ff938b"
      },
      "source": [
        "# Lemma CountVectorizer Trigrama e stopwords com arvore de decisão\n",
        "# treinamento do modelo árvore de decisão\n",
        "tree = DecisionTreeClassifier(random_state=42)\n",
        "tree.fit(lemma_count3StopVect_train, df_train.sentimento)\n",
        "\n",
        "# escoragem da classificação na amostra de teste\n",
        "text_vect_test = lemma_count3StopVect.transform(df_test.texto)\n",
        "y_prediction = tree.predict(text_vect_test)\n",
        "\n",
        "# mensuração do resultado pela acurácia\n",
        "score = f1_score(y_prediction, df_test.sentimento, average='weighted')\n",
        "resultado.append(['Lemma CountVectorizer Trigrama e stopwords com arvore de decisão', score])\n",
        "print('Lemma CountVectorizer Trigrama e stopwords com arvore de decisão:', score)"
      ],
      "execution_count": 101,
      "outputs": [
        {
          "output_type": "stream",
          "text": [
            "Lemma CountVectorizer Trigrama e stopwords com arvore de decisão: 0.6754966887417219\n"
          ],
          "name": "stdout"
        }
      ]
    },
    {
      "cell_type": "markdown",
      "metadata": {
        "id": "dWwwQsmFuMMI"
      },
      "source": [
        "##### TfidfVectorizer"
      ]
    },
    {
      "cell_type": "code",
      "metadata": {
        "colab": {
          "base_uri": "https://localhost:8080/"
        },
        "id": "mjIjZyW8uMMI",
        "outputId": "207bc8ef-d61a-4188-dd30-cb12bbdafaff"
      },
      "source": [
        "# Lemma TfidfVectorizer Unigrama com arvore de decisão\n",
        "# treinamento do modelo árvore de decisão\n",
        "tree = DecisionTreeClassifier(random_state=42)\n",
        "tree.fit(lemma_tfidf1Vect_train, df_train.sentimento)\n",
        "\n",
        "# escoragem da classificação na amostra de teste\n",
        "text_vect_test = lemma_tfidf1Vect.transform(df_test.texto)\n",
        "y_prediction = tree.predict(text_vect_test)\n",
        "\n",
        "# mensuração do resultado pela acurácia\n",
        "score = f1_score(y_prediction, df_test.sentimento, average='weighted')\n",
        "resultado.append(['Lemma TfidfVectorizer Unigrama com arvore de decisão', score])\n",
        "print('Lemma TfidfVectorizer Unigrama com arvore de decisão:', score)"
      ],
      "execution_count": 102,
      "outputs": [
        {
          "output_type": "stream",
          "text": [
            "Lemma TfidfVectorizer Unigrama com arvore de decisão: 0.6488691796008869\n"
          ],
          "name": "stdout"
        }
      ]
    },
    {
      "cell_type": "code",
      "metadata": {
        "colab": {
          "base_uri": "https://localhost:8080/"
        },
        "id": "idX9FdeKuMMI",
        "outputId": "b8c64915-5bc7-4485-c434-f3bd7fe5cf27"
      },
      "source": [
        "# Lemma TfidfVectorizer Bigrama com arvore de decisão\n",
        "# treinamento do modelo árvore de decisão\n",
        "tree = DecisionTreeClassifier(random_state=42)\n",
        "tree.fit(lemma_tfidf2Vect_train, df_train.sentimento)\n",
        "\n",
        "# escoragem da classificação na amostra de teste\n",
        "text_vect_test = lemma_tfidf2Vect.transform(df_test.texto)\n",
        "y_prediction = tree.predict(text_vect_test)\n",
        "\n",
        "# mensuração do resultado pela acurácia\n",
        "score = f1_score(y_prediction, df_test.sentimento, average='weighted')\n",
        "resultado.append(['Lemma TfidfVectorizer Bigrama com arvore de decisão', score])\n",
        "print('Lemma TfidfVectorizer Bigrama com arvore de decisão:', score)"
      ],
      "execution_count": 103,
      "outputs": [
        {
          "output_type": "stream",
          "text": [
            "Lemma TfidfVectorizer Bigrama com arvore de decisão: 0.635861491787844\n"
          ],
          "name": "stdout"
        }
      ]
    },
    {
      "cell_type": "code",
      "metadata": {
        "colab": {
          "base_uri": "https://localhost:8080/"
        },
        "id": "BJDfJS6wuMMJ",
        "outputId": "c56d83e4-e42e-4cb1-d7fe-5da48904aba8"
      },
      "source": [
        "# Lemma TfidfVectorizer Trigrama com arvore de decisão\n",
        "# treinamento do modelo árvore de decisão\n",
        "tree = DecisionTreeClassifier(random_state=42)\n",
        "tree.fit(lemma_tfidf3Vect_train, df_train.sentimento)\n",
        "\n",
        "# escoragem da classificação na amostra de teste\n",
        "text_vect_test = lemma_tfidf3Vect.transform(df_test.texto)\n",
        "y_prediction = tree.predict(text_vect_test)\n",
        "\n",
        "# mensuração do resultado pela acurácia\n",
        "score = f1_score(y_prediction, df_test.sentimento, average='weighted')\n",
        "resultado.append(['Lemma TfidfVectorizer Trigrama com arvore de decisão', score])\n",
        "print('Lemma TfidfVectorizer Trigrama com arvore de decisão:', score)"
      ],
      "execution_count": 104,
      "outputs": [
        {
          "output_type": "stream",
          "text": [
            "Lemma TfidfVectorizer Trigrama com arvore de decisão: 0.6298660247016956\n"
          ],
          "name": "stdout"
        }
      ]
    },
    {
      "cell_type": "markdown",
      "metadata": {
        "id": "QVTq5QEduMMJ"
      },
      "source": [
        "##### TfidfVectorizer + Stopwords"
      ]
    },
    {
      "cell_type": "code",
      "metadata": {
        "colab": {
          "base_uri": "https://localhost:8080/"
        },
        "id": "ilDIii8buMMJ",
        "outputId": "5d940d70-6576-429a-ee40-ec8c9360b7c4"
      },
      "source": [
        "# Lemma TfidfVectorizer Unigrama e stopwords com arvore de decisão\n",
        "# treinamento do modelo árvore de decisão\n",
        "tree = DecisionTreeClassifier(random_state=42)\n",
        "tree.fit(lemma_tfidf1StopVect_train, df_train.sentimento)\n",
        "\n",
        "# escoragem da classificação na amostra de teste\n",
        "text_vect_test = lemma_tfidf1StopVect.transform(df_test.texto)\n",
        "y_prediction = tree.predict(text_vect_test)\n",
        "\n",
        "# mensuração do resultado pela acurácia\n",
        "score = f1_score(y_prediction, df_test.sentimento, average='weighted')\n",
        "resultado.append(['Lemma TfidfVectorizer Unigrama e stopwords com arvore de decisão', score])\n",
        "print('Lemma TfidfVectorizer Unigrama e stopwords com arvore de decisão:', score)"
      ],
      "execution_count": 105,
      "outputs": [
        {
          "output_type": "stream",
          "text": [
            "Lemma TfidfVectorizer Unigrama e stopwords com arvore de decisão: 0.6910903426791277\n"
          ],
          "name": "stdout"
        }
      ]
    },
    {
      "cell_type": "code",
      "metadata": {
        "colab": {
          "base_uri": "https://localhost:8080/"
        },
        "id": "QBaWD23nuMMJ",
        "outputId": "31587d83-2502-4f6a-ec73-6ee0de953109"
      },
      "source": [
        "# Lemma TfidfVectorizer Bigrama e stopwords com arvore de decisão\n",
        "# treinamento do modelo árvore de decisão\n",
        "tree = DecisionTreeClassifier(random_state=42)\n",
        "tree.fit(lemma_tfidf2StopVect_train, df_train.sentimento)\n",
        "\n",
        "# escoragem da classificação na amostra de teste\n",
        "text_vect_test = lemma_tfidf2StopVect.transform(df_test.texto)\n",
        "y_prediction = tree.predict(text_vect_test)\n",
        "\n",
        "# mensuração do resultado pela acurácia\n",
        "score = f1_score(y_prediction, df_test.sentimento, average='weighted')\n",
        "resultado.append(['Lemma TfidfVectorizer Bigrama e stopwords com arvore de decisão', score])\n",
        "print('Lemma TfidfVectorizer Bigrama e stopwords com arvore de decisão:', score)"
      ],
      "execution_count": 106,
      "outputs": [
        {
          "output_type": "stream",
          "text": [
            "Lemma TfidfVectorizer Bigrama e stopwords com arvore de decisão: 0.6650730607041289\n"
          ],
          "name": "stdout"
        }
      ]
    },
    {
      "cell_type": "code",
      "metadata": {
        "colab": {
          "base_uri": "https://localhost:8080/"
        },
        "id": "xqfxpoRLuMMJ",
        "outputId": "a4e6a9ab-3c1b-45ce-c7dc-ebc6c359dbde"
      },
      "source": [
        "# Lemma TfidfVectorizer Trigrama e stopwords com arvore de decisão\n",
        "# treinamento do modelo árvore de decisão\n",
        "tree = DecisionTreeClassifier(random_state=42)\n",
        "tree.fit(lemma_tfidf3StopVect_train, df_train.sentimento)\n",
        "\n",
        "# escoragem da classificação na amostra de teste\n",
        "text_vect_test = lemma_tfidf3StopVect.transform(df_test.texto)\n",
        "y_prediction = tree.predict(text_vect_test)\n",
        "\n",
        "# mensuração do resultado pela acurácia\n",
        "score = f1_score(y_prediction, df_test.sentimento, average='weighted')\n",
        "resultado.append(['Lemma TfidfVectorizer Trigrama e stopwords com arvore de decisão', score])\n",
        "print('Lemma TfidfVectorizer Trigrama e stopwords com arvore de decisão:', score)"
      ],
      "execution_count": 107,
      "outputs": [
        {
          "output_type": "stream",
          "text": [
            "Lemma TfidfVectorizer Trigrama e stopwords com arvore de decisão: 0.6668\n"
          ],
          "name": "stdout"
        }
      ]
    },
    {
      "cell_type": "markdown",
      "metadata": {
        "id": "cytiQwJxiHgj"
      },
      "source": [
        "### Naive Bayes"
      ]
    },
    {
      "cell_type": "markdown",
      "metadata": {
        "id": "CglYqDOFiHgq"
      },
      "source": [
        "#### Texto\n",
        "\n"
      ]
    },
    {
      "cell_type": "markdown",
      "metadata": {
        "id": "jNLJ18BEiHgq"
      },
      "source": [
        "##### CountVectorizer"
      ]
    },
    {
      "cell_type": "code",
      "metadata": {
        "colab": {
          "base_uri": "https://localhost:8080/"
        },
        "id": "AavhR2JuiHgq",
        "outputId": "ebd2a25f-1803-4263-d09e-85a644b53aaf"
      },
      "source": [
        "# Texto CountVectorizer Unigrama com Naive Bayes\n",
        "# treinamento do modelo Naive Bayes\n",
        "bayes = MultinomialNB()\n",
        "bayes.fit(text_count1Vect_train, df_train.sentimento)\n",
        "\n",
        "# escoragem da classificação na amostra de teste\n",
        "text_vect_test = text_count1Vect.transform(df_test.texto)\n",
        "y_prediction = bayes.predict(text_vect_test)\n",
        "\n",
        "# mensuração do resultado pela acurácia\n",
        "score = f1_score(y_prediction, df_test.sentimento, average='weighted')\n",
        "resultado.append(['Texto CountVectorizer Unigrama com Naive Bayes', score])\n",
        "print('Texto CountVectorizer Unigrama com Naive Bayes:', score)"
      ],
      "execution_count": 108,
      "outputs": [
        {
          "output_type": "stream",
          "text": [
            "Texto CountVectorizer Unigrama com Naive Bayes: 0.7951076492210748\n"
          ],
          "name": "stdout"
        }
      ]
    },
    {
      "cell_type": "code",
      "metadata": {
        "colab": {
          "base_uri": "https://localhost:8080/"
        },
        "id": "fezcJHDmiHgr",
        "outputId": "29290891-625a-4d5c-c742-ca34c5cab04d"
      },
      "source": [
        "# Texto CountVectorizer Bigrama com Naive Bayes\n",
        "# treinamento do modelo Naive Bayes\n",
        "bayes = MultinomialNB()\n",
        "bayes.fit(text_count2Vect_train, df_train.sentimento)\n",
        "\n",
        "# escoragem da classificação na amostra de teste\n",
        "text_vect_test = text_count2Vect.transform(df_test.texto)\n",
        "y_prediction = bayes.predict(text_vect_test)\n",
        "\n",
        "# mensuração do resultado pela acurácia\n",
        "score = f1_score(y_prediction, df_test.sentimento, average='weighted')\n",
        "resultado.append(['Texto CountVectorizer Bigrama com Naive Bayes', score])\n",
        "print('Texto CountVectorizer Bigrama com Naive Bayes:', score)"
      ],
      "execution_count": 109,
      "outputs": [
        {
          "output_type": "stream",
          "text": [
            "Texto CountVectorizer Bigrama com Naive Bayes: 0.8001600640256101\n"
          ],
          "name": "stdout"
        }
      ]
    },
    {
      "cell_type": "code",
      "metadata": {
        "colab": {
          "base_uri": "https://localhost:8080/"
        },
        "id": "rFpBRMI0iHgr",
        "outputId": "d2ec947b-e99b-45c9-db58-8f2d605fe87c"
      },
      "source": [
        "# Texto CountVectorizer Trigrama com Naive Bayes\n",
        "# treinamento do modelo Naive Bayes\n",
        "bayes = MultinomialNB()\n",
        "bayes.fit(text_count3Vect_train, df_train.sentimento)\n",
        "\n",
        "# escoragem da classificação na amostra de teste\n",
        "text_vect_test = text_count3Vect.transform(df_test.texto)\n",
        "y_prediction = bayes.predict(text_vect_test)\n",
        "\n",
        "# mensuração do resultado pela acurácia\n",
        "score = f1_score(y_prediction, df_test.sentimento, average='weighted')\n",
        "resultado.append(['Texto CountVectorizer Trigrama com Naive Bayes', score])\n",
        "print('Texto CountVectorizer Trigrama com Naive Bayes:', score)"
      ],
      "execution_count": 110,
      "outputs": [
        {
          "output_type": "stream",
          "text": [
            "Texto CountVectorizer Trigrama com Naive Bayes: 0.7200840756681012\n"
          ],
          "name": "stdout"
        }
      ]
    },
    {
      "cell_type": "markdown",
      "metadata": {
        "id": "loj_Qol5iHgs"
      },
      "source": [
        "##### CountVectorizer + Stopwords"
      ]
    },
    {
      "cell_type": "code",
      "metadata": {
        "colab": {
          "base_uri": "https://localhost:8080/"
        },
        "id": "5_K2PjoSiHgs",
        "outputId": "061c1484-c4fd-4d3b-d62f-0a9457662caf"
      },
      "source": [
        "# Texto CountVectorizer Unigrama e stopwords com Naive Bayes\n",
        "# treinamento do modelo Naive Bayes\n",
        "bayes = MultinomialNB()\n",
        "bayes.fit(text_count1StopVect_train, df_train.sentimento)\n",
        "\n",
        "# escoragem da classificação na amostra de teste\n",
        "text_vect_test = text_count1StopVect.transform(df_test.texto)\n",
        "y_prediction = bayes.predict(text_vect_test)\n",
        "\n",
        "# mensuração do resultado pela acurácia\n",
        "score = f1_score(y_prediction, df_test.sentimento, average='weighted')\n",
        "resultado.append(['Texto CountVectorizer Unigrama e stopwords com Naive Bayes', score])\n",
        "print('Texto CountVectorizer Unigrama e stopwords com Naive Bayes:', score)"
      ],
      "execution_count": 111,
      "outputs": [
        {
          "output_type": "stream",
          "text": [
            "Texto CountVectorizer Unigrama e stopwords com Naive Bayes: 0.7900630063006301\n"
          ],
          "name": "stdout"
        }
      ]
    },
    {
      "cell_type": "code",
      "metadata": {
        "colab": {
          "base_uri": "https://localhost:8080/"
        },
        "id": "TjR0uA8xiHgs",
        "outputId": "cc85e597-34ff-4a44-d17e-70f1fc837996"
      },
      "source": [
        "# Texto CountVectorizer Bigrama e stopwords com Naive Bayes\n",
        "# treinamento do modelo Naive Bayes\n",
        "bayes = MultinomialNB()\n",
        "bayes.fit(text_count2StopVect_train, df_train.sentimento)\n",
        "\n",
        "# escoragem da classificação na amostra de teste\n",
        "text_vect_test = text_count2StopVect.transform(df_test.texto)\n",
        "y_prediction = bayes.predict(text_vect_test)\n",
        "\n",
        "# mensuração do resultado pela acurácia\n",
        "score = f1_score(y_prediction, df_test.sentimento, average='weighted')\n",
        "resultado.append(['Texto CountVectorizer Bigrama e stopwords com Naive Bayes', score])\n",
        "print('Texto CountVectorizer Bigrama e stopwords com Naive Bayes:', score)"
      ],
      "execution_count": 112,
      "outputs": [
        {
          "output_type": "stream",
          "text": [
            "Texto CountVectorizer Bigrama e stopwords com Naive Bayes: 0.744980874521863\n"
          ],
          "name": "stdout"
        }
      ]
    },
    {
      "cell_type": "code",
      "metadata": {
        "colab": {
          "base_uri": "https://localhost:8080/"
        },
        "id": "nQW5TeYYiHgs",
        "outputId": "e54c56fc-42f6-4add-8b90-db436f7d6482"
      },
      "source": [
        "# Texto CountVectorizer Trigrama e stopwords com Naive Bayes\n",
        "# treinamento do modelo Naive Bayes\n",
        "bayes = MultinomialNB()\n",
        "bayes.fit(text_count3StopVect_train, df_train.sentimento)\n",
        "\n",
        "# escoragem da classificação na amostra de teste\n",
        "text_vect_test = text_count3StopVect.transform(df_test.texto)\n",
        "y_prediction = bayes.predict(text_vect_test)\n",
        "\n",
        "# mensuração do resultado pela acurácia\n",
        "score = f1_score(y_prediction, df_test.sentimento, average='weighted')\n",
        "resultado.append(['Texto CountVectorizer Trigrama e stopwords com Naive Bayes', score])\n",
        "print('Texto CountVectorizer Trigrama e stopwords com Naive Bayes:', score)"
      ],
      "execution_count": 113,
      "outputs": [
        {
          "output_type": "stream",
          "text": [
            "Texto CountVectorizer Trigrama e stopwords com Naive Bayes: 0.643977024491789\n"
          ],
          "name": "stdout"
        }
      ]
    },
    {
      "cell_type": "markdown",
      "metadata": {
        "id": "6z5w5HvViHgt"
      },
      "source": [
        "##### TfidfVectorizer"
      ]
    },
    {
      "cell_type": "code",
      "metadata": {
        "colab": {
          "base_uri": "https://localhost:8080/"
        },
        "id": "qNH18VZKiHgt",
        "outputId": "41072096-a5a0-45e7-abba-95645d826610"
      },
      "source": [
        "# Texto TfidfVectorizer Unigrama com Naive Bayes\n",
        "# treinamento do modelo Naive Bayes\n",
        "bayes = MultinomialNB()\n",
        "bayes.fit(text_tfidf1Vect_train, df_train.sentimento)\n",
        "\n",
        "# escoragem da classificação na amostra de teste\n",
        "text_vect_test = text_tfidf1Vect.transform(df_test.texto)\n",
        "y_prediction = bayes.predict(text_vect_test)\n",
        "\n",
        "# mensuração do resultado pela acurácia\n",
        "score = f1_score(y_prediction, df_test.sentimento, average='weighted')\n",
        "resultado.append(['Texto TfidfVectorizer Unigrama com Naive Bayes', score])\n",
        "print('Texto TfidfVectorizer Unigrama com Naive Bayes:', score)"
      ],
      "execution_count": 114,
      "outputs": [
        {
          "output_type": "stream",
          "text": [
            "Texto TfidfVectorizer Unigrama com Naive Bayes: 0.799395220164451\n"
          ],
          "name": "stdout"
        }
      ]
    },
    {
      "cell_type": "code",
      "metadata": {
        "colab": {
          "base_uri": "https://localhost:8080/"
        },
        "id": "Ns88YZ6KiHgt",
        "outputId": "f6c4f92a-cd02-400e-f33f-ebf99b54dff8"
      },
      "source": [
        "# Texto TfidfVectorizer Bigrama com Naive Bayes\n",
        "# treinamento do modelo Naive Bayes\n",
        "bayes = MultinomialNB()\n",
        "bayes.fit(text_tfidf2Vect_train, df_train.sentimento)\n",
        "\n",
        "# escoragem da classificação na amostra de teste\n",
        "text_vect_test = text_tfidf2Vect.transform(df_test.texto)\n",
        "y_prediction = bayes.predict(text_vect_test)\n",
        "\n",
        "# mensuração do resultado pela acurácia\n",
        "score = f1_score(y_prediction, df_test.sentimento, average='weighted')\n",
        "resultado.append(['Texto TfidfVectorizer Bigrama com Naive Bayes', score])\n",
        "print('Texto TfidfVectorizer Bigrama com Naive Bayes:', score)"
      ],
      "execution_count": 115,
      "outputs": [
        {
          "output_type": "stream",
          "text": [
            "Texto TfidfVectorizer Bigrama com Naive Bayes: 0.7910161186331399\n"
          ],
          "name": "stdout"
        }
      ]
    },
    {
      "cell_type": "code",
      "metadata": {
        "colab": {
          "base_uri": "https://localhost:8080/"
        },
        "id": "kbOW2TjPiHgt",
        "outputId": "eefc3a21-9a11-4d1a-cbaa-64993abf4b04"
      },
      "source": [
        "# Texto TfidfVectorizer Trigrama com Naive Bayes\n",
        "# treinamento do modelo Naive Bayes\n",
        "bayes = MultinomialNB()\n",
        "bayes.fit(text_tfidf3Vect_train, df_train.sentimento)\n",
        "\n",
        "# escoragem da classificação na amostra de teste\n",
        "text_vect_test = text_tfidf3Vect.transform(df_test.texto)\n",
        "y_prediction = bayes.predict(text_vect_test)\n",
        "\n",
        "# mensuração do resultado pela acurácia\n",
        "score = f1_score(y_prediction, df_test.sentimento, average='weighted')\n",
        "resultado.append(['Texto TfidfVectorizer Trigrama com Naive Bayes', score])\n",
        "print('Texto TfidfVectorizer Trigrama com Naive Bayes:', score)"
      ],
      "execution_count": 116,
      "outputs": [
        {
          "output_type": "stream",
          "text": [
            "Texto TfidfVectorizer Trigrama com Naive Bayes: 0.72230032713636\n"
          ],
          "name": "stdout"
        }
      ]
    },
    {
      "cell_type": "markdown",
      "metadata": {
        "id": "cBeDtIfWiHgt"
      },
      "source": [
        "##### TfidfVectorizer + Stopwords"
      ]
    },
    {
      "cell_type": "code",
      "metadata": {
        "colab": {
          "base_uri": "https://localhost:8080/"
        },
        "id": "LCdPEFytiHgu",
        "outputId": "f022600c-f263-4ed5-8951-5c107811dc00"
      },
      "source": [
        "# Texto TfidfVectorizer Unigrama e stopwords com Naive Bayes\n",
        "# treinamento do modelo Naive Bayes\n",
        "bayes = MultinomialNB()\n",
        "bayes.fit(text_tfidf1StopVect_train, df_train.sentimento)\n",
        "\n",
        "# escoragem da classificação na amostra de teste\n",
        "text_vect_test = text_tfidf1StopVect.transform(df_test.texto)\n",
        "y_prediction = bayes.predict(text_vect_test)\n",
        "\n",
        "# mensuração do resultado pela acurácia\n",
        "score = f1_score(y_prediction, df_test.sentimento, average='weighted')\n",
        "resultado.append(['Texto TfidfVectorizer Unigrama e stopwords com Naive Bayes', score])\n",
        "print('Texto TfidfVectorizer Unigrama e stopwords com Naive Bayes:', score)"
      ],
      "execution_count": 117,
      "outputs": [
        {
          "output_type": "stream",
          "text": [
            "Texto TfidfVectorizer Unigrama e stopwords com Naive Bayes: 0.7739412484700123\n"
          ],
          "name": "stdout"
        }
      ]
    },
    {
      "cell_type": "code",
      "metadata": {
        "colab": {
          "base_uri": "https://localhost:8080/"
        },
        "id": "hwb5bBmciHgu",
        "outputId": "dbd0bdaa-7874-4a9c-8847-6566cff31818"
      },
      "source": [
        "# Texto TfidfVectorizer Bigrama e stopwords com Naive Bayes\n",
        "# treinamento do modelo Naive Bayes\n",
        "bayes = MultinomialNB()\n",
        "bayes.fit(text_tfidf2StopVect_train, df_train.sentimento)\n",
        "\n",
        "# escoragem da classificação na amostra de teste\n",
        "text_vect_test = text_tfidf2StopVect.transform(df_test.texto)\n",
        "y_prediction = bayes.predict(text_vect_test)\n",
        "\n",
        "# mensuração do resultado pela acurácia\n",
        "score = f1_score(y_prediction, df_test.sentimento, average='weighted')\n",
        "resultado.append(['Texto TfidfVectorizer Bigrama e stopwords com Naive Bayes', score])\n",
        "print('Texto TfidfVectorizer Bigrama e stopwords com Naive Bayes:', score)"
      ],
      "execution_count": 118,
      "outputs": [
        {
          "output_type": "stream",
          "text": [
            "Texto TfidfVectorizer Bigrama e stopwords com Naive Bayes: 0.7431655844155844\n"
          ],
          "name": "stdout"
        }
      ]
    },
    {
      "cell_type": "code",
      "metadata": {
        "colab": {
          "base_uri": "https://localhost:8080/"
        },
        "id": "Vd98yKX3iHgu",
        "outputId": "8c933dd8-e687-4271-f715-0412dfe6cb40"
      },
      "source": [
        "# Texto TfidfVectorizer Trigrama e stopwords com Naive Bayes\n",
        "# treinamento do modelo Naive Bayes\n",
        "bayes = MultinomialNB()\n",
        "bayes.fit(text_tfidf3StopVect_train, df_train.sentimento)\n",
        "\n",
        "# escoragem da classificação na amostra de teste\n",
        "text_vect_test = text_tfidf3StopVect.transform(df_test.texto)\n",
        "y_prediction = bayes.predict(text_vect_test)\n",
        "\n",
        "# mensuração do resultado pela acurácia\n",
        "score = f1_score(y_prediction, df_test.sentimento, average='weighted')\n",
        "resultado.append(['Texto TfidfVectorizer Trigrama e stopwords com Naive Bayes', score])\n",
        "print('Texto TfidfVectorizer Trigrama e stopwords com Naive Bayes:', score)"
      ],
      "execution_count": 119,
      "outputs": [
        {
          "output_type": "stream",
          "text": [
            "Texto TfidfVectorizer Trigrama e stopwords com Naive Bayes: 0.6433066666666666\n"
          ],
          "name": "stdout"
        }
      ]
    },
    {
      "cell_type": "markdown",
      "metadata": {
        "id": "LegkemmJiHgu"
      },
      "source": [
        "#### RSLP Stemmer\n",
        "\n"
      ]
    },
    {
      "cell_type": "markdown",
      "metadata": {
        "id": "dqCZkgQ6iHgv"
      },
      "source": [
        "##### CountVectorizer"
      ]
    },
    {
      "cell_type": "code",
      "metadata": {
        "colab": {
          "base_uri": "https://localhost:8080/"
        },
        "id": "BoZM5fOLiHgw",
        "outputId": "c06639da-b973-4246-a072-e5403bc8ae48"
      },
      "source": [
        "# RSLP CountVectorizer Unigrama com Naive Bayes\n",
        "# treinamento do modelo Naive Bayes\n",
        "bayes = MultinomialNB()\n",
        "bayes.fit(rslp_count1Vect_train, df_train.sentimento)\n",
        "\n",
        "# escoragem da classificação na amostra de teste\n",
        "text_vect_test = rslp_count1Vect.transform(df_test.texto)\n",
        "y_prediction = bayes.predict(text_vect_test)\n",
        "\n",
        "# mensuração do resultado pela acurácia\n",
        "score = f1_score(y_prediction, df_test.sentimento, average='weighted')\n",
        "resultado.append(['RSLP CountVectorizer Unigrama com Naive Bayes', score])\n",
        "print('RSLP CountVectorizer Unigrama com Naive Bayes:', score)"
      ],
      "execution_count": 120,
      "outputs": [
        {
          "output_type": "stream",
          "text": [
            "RSLP CountVectorizer Unigrama com Naive Bayes: 0.6881387802867097\n"
          ],
          "name": "stdout"
        }
      ]
    },
    {
      "cell_type": "code",
      "metadata": {
        "colab": {
          "base_uri": "https://localhost:8080/"
        },
        "id": "ejvzw_j7iHgw",
        "outputId": "209b5fd8-ebed-4ae3-870f-2098b4d6358e"
      },
      "source": [
        "# RSLP CountVectorizer Bigrama com Naive Bayes\n",
        "# treinamento do modelo Naive Bayes\n",
        "bayes = MultinomialNB()\n",
        "bayes.fit(rslp_count2Vect_train, df_train.sentimento)\n",
        "\n",
        "# escoragem da classificação na amostra de teste\n",
        "text_vect_test = rslp_count2Vect.transform(df_test.texto)\n",
        "y_prediction = bayes.predict(text_vect_test)\n",
        "\n",
        "# mensuração do resultado pela acurácia\n",
        "score = f1_score(y_prediction, df_test.sentimento, average='weighted')\n",
        "resultado.append(['RSLP CountVectorizer Bigrama com Naive Bayes', score])\n",
        "print('RSLP CountVectorizer Bigrama com Naive Bayes:', score)"
      ],
      "execution_count": 121,
      "outputs": [
        {
          "output_type": "stream",
          "text": [
            "RSLP CountVectorizer Bigrama com Naive Bayes: 0.6595786041103162\n"
          ],
          "name": "stdout"
        }
      ]
    },
    {
      "cell_type": "code",
      "metadata": {
        "colab": {
          "base_uri": "https://localhost:8080/"
        },
        "id": "blLaaveSiHgx",
        "outputId": "e683e7dc-381c-4ded-cf10-741eaaae61ed"
      },
      "source": [
        "# RSLP CountVectorizer Trigrama com Naive Bayes\n",
        "# treinamento do modelo Naive Bayes\n",
        "bayes = MultinomialNB()\n",
        "bayes.fit(rslp_count3Vect_train, df_train.sentimento)\n",
        "\n",
        "# escoragem da classificação na amostra de teste\n",
        "text_vect_test = rslp_count3Vect.transform(df_test.texto)\n",
        "y_prediction = bayes.predict(text_vect_test)\n",
        "\n",
        "# mensuração do resultado pela acurácia\n",
        "score = f1_score(y_prediction, df_test.sentimento, average='weighted')\n",
        "resultado.append(['RSLP CountVectorizer Trigrama com Naive Bayes', score])\n",
        "print('RSLP CountVectorizer Trigrama com Naive Bayes:', score)"
      ],
      "execution_count": 122,
      "outputs": [
        {
          "output_type": "stream",
          "text": [
            "RSLP CountVectorizer Trigrama com Naive Bayes: 0.6218357487922705\n"
          ],
          "name": "stdout"
        }
      ]
    },
    {
      "cell_type": "markdown",
      "metadata": {
        "id": "IKs_U8J7iHgx"
      },
      "source": [
        "##### CountVectorizer + Stopwords"
      ]
    },
    {
      "cell_type": "code",
      "metadata": {
        "colab": {
          "base_uri": "https://localhost:8080/"
        },
        "id": "UJtuxOTCiHgx",
        "outputId": "4175a8dd-cab1-449d-f41c-c700a5f6d860"
      },
      "source": [
        "# RSLP CountVectorizer Unigrama e stopwords com Naive Bayes\n",
        "# treinamento do modelo Naive Bayes\n",
        "bayes = MultinomialNB()\n",
        "bayes.fit(rslp_count1StopVect_train, df_train.sentimento)\n",
        "\n",
        "# escoragem da classificação na amostra de teste\n",
        "text_vect_test = rslp_count1StopVect.transform(df_test.texto)\n",
        "y_prediction = bayes.predict(text_vect_test)\n",
        "\n",
        "# mensuração do resultado pela acurácia\n",
        "score = f1_score(y_prediction, df_test.sentimento, average='weighted')\n",
        "resultado.append(['RSLP CountVectorizer Unigrama e stopwords com Naive Bayes', score])\n",
        "print('RSLP CountVectorizer Unigrama e stopwords com Naive Bayes:', score)"
      ],
      "execution_count": 123,
      "outputs": [
        {
          "output_type": "stream",
          "text": [
            "RSLP CountVectorizer Unigrama e stopwords com Naive Bayes: 0.672140001527845\n"
          ],
          "name": "stdout"
        }
      ]
    },
    {
      "cell_type": "code",
      "metadata": {
        "colab": {
          "base_uri": "https://localhost:8080/"
        },
        "id": "9_BSRD_PiHgx",
        "outputId": "58fc3547-2a90-4e9d-bc34-ce657976482f"
      },
      "source": [
        "# RSLP CountVectorizer Bigrama e stopwords com Naive Bayes\n",
        "# treinamento do modelo Naive Bayes\n",
        "bayes = MultinomialNB()\n",
        "bayes.fit(rslp_count2StopVect_train, df_train.sentimento)\n",
        "\n",
        "# escoragem da classificação na amostra de teste\n",
        "text_vect_test = rslp_count2StopVect.transform(df_test.texto)\n",
        "y_prediction = bayes.predict(text_vect_test)\n",
        "\n",
        "# mensuração do resultado pela acurácia\n",
        "score = f1_score(y_prediction, df_test.sentimento, average='weighted')\n",
        "resultado.append(['RSLP CountVectorizer Bigrama e stopwords com Naive Bayes', score])\n",
        "print('RSLP CountVectorizer Bigrama e stopwords com Naive Bayes:', score)"
      ],
      "execution_count": 124,
      "outputs": [
        {
          "output_type": "stream",
          "text": [
            "RSLP CountVectorizer Bigrama e stopwords com Naive Bayes: 0.6223629786899426\n"
          ],
          "name": "stdout"
        }
      ]
    },
    {
      "cell_type": "code",
      "metadata": {
        "colab": {
          "base_uri": "https://localhost:8080/"
        },
        "id": "ge4XnGvXiHgx",
        "outputId": "00ad111b-b90c-4f61-f176-b2e45ec23983"
      },
      "source": [
        "# RSLP CountVectorizer Trigrama e stopwords com Naive Bayes\n",
        "# treinamento do modelo Naive Bayes\n",
        "bayes = MultinomialNB()\n",
        "bayes.fit(rslp_count3StopVect_train, df_train.sentimento)\n",
        "\n",
        "# escoragem da classificação na amostra de teste\n",
        "text_vect_test = rslp_count3StopVect.transform(df_test.texto)\n",
        "y_prediction = bayes.predict(text_vect_test)\n",
        "\n",
        "# mensuração do resultado pela acurácia\n",
        "score = f1_score(y_prediction, df_test.sentimento, average='weighted')\n",
        "resultado.append(['RSLP CountVectorizer Trigrama e stopwords com Naive Bayes', score])\n",
        "print('RSLP CountVectorizer Trigrama e stopwords com Naive Bayes:', score)"
      ],
      "execution_count": 125,
      "outputs": [
        {
          "output_type": "stream",
          "text": [
            "RSLP CountVectorizer Trigrama e stopwords com Naive Bayes: 0.6650730607041289\n"
          ],
          "name": "stdout"
        }
      ]
    },
    {
      "cell_type": "markdown",
      "metadata": {
        "id": "RXMqNqMliHgy"
      },
      "source": [
        "##### TfidfVectorizer"
      ]
    },
    {
      "cell_type": "code",
      "metadata": {
        "colab": {
          "base_uri": "https://localhost:8080/"
        },
        "id": "mEleRriLiHgy",
        "outputId": "bfe0c844-b91e-4437-d214-c50076be38b1"
      },
      "source": [
        "# RSLP TfidfVectorizer Unigrama com Naive Bayes\n",
        "# treinamento do modelo Naive Bayes\n",
        "bayes = MultinomialNB()\n",
        "bayes.fit(rslp_tfidf1Vect_train, df_train.sentimento)\n",
        "\n",
        "# escoragem da classificação na amostra de teste\n",
        "text_vect_test = rslp_tfidf1Vect.transform(df_test.texto)\n",
        "y_prediction = bayes.predict(text_vect_test)\n",
        "\n",
        "# mensuração do resultado pela acurácia\n",
        "score = f1_score(y_prediction, df_test.sentimento, average='weighted')\n",
        "resultado.append(['RSLP TfidfVectorizer Unigrama com Naive Bayes', score])\n",
        "print('RSLP TfidfVectorizer Unigrama com Naive Bayes:', score)"
      ],
      "execution_count": 126,
      "outputs": [
        {
          "output_type": "stream",
          "text": [
            "RSLP TfidfVectorizer Unigrama com Naive Bayes: 0.6713932980599647\n"
          ],
          "name": "stdout"
        }
      ]
    },
    {
      "cell_type": "code",
      "metadata": {
        "colab": {
          "base_uri": "https://localhost:8080/"
        },
        "id": "vFiLqRk2iHgy",
        "outputId": "021beab7-e4bf-4e62-ab43-f9af37bd6dce"
      },
      "source": [
        "# RSLP TfidfVectorizer Bigrama com Naive Bayes\n",
        "# treinamento do modelo Naive Bayes\n",
        "bayes = MultinomialNB()\n",
        "bayes.fit(rslp_tfidf2Vect_train, df_train.sentimento)\n",
        "\n",
        "# escoragem da classificação na amostra de teste\n",
        "text_vect_test = rslp_tfidf2Vect.transform(df_test.texto)\n",
        "y_prediction = bayes.predict(text_vect_test)\n",
        "\n",
        "# mensuração do resultado pela acurácia\n",
        "score = f1_score(y_prediction, df_test.sentimento, average='weighted')\n",
        "resultado.append(['RSLP TfidfVectorizer Bigrama com Naive Bayes', score])\n",
        "print('RSLP TfidfVectorizer Bigrama com Naive Bayes:', score)"
      ],
      "execution_count": 127,
      "outputs": [
        {
          "output_type": "stream",
          "text": [
            "RSLP TfidfVectorizer Bigrama com Naive Bayes: 0.6354932301740811\n"
          ],
          "name": "stdout"
        }
      ]
    },
    {
      "cell_type": "code",
      "metadata": {
        "colab": {
          "base_uri": "https://localhost:8080/"
        },
        "id": "9GDjrPnqiHgy",
        "outputId": "27832299-f33d-43d6-d401-bb2e9dc3f684"
      },
      "source": [
        "# RSLP TfidfVectorizer Trigrama com Naive Bayes\n",
        "# treinamento do modelo Naive Bayes\n",
        "bayes = MultinomialNB()\n",
        "bayes.fit(rslp_tfidf3Vect_train, df_train.sentimento)\n",
        "\n",
        "# escoragem da classificação na amostra de teste\n",
        "text_vect_test = rslp_tfidf3Vect.transform(df_test.texto)\n",
        "y_prediction = bayes.predict(text_vect_test)\n",
        "\n",
        "# mensuração do resultado pela acurácia\n",
        "score = f1_score(y_prediction, df_test.sentimento, average='weighted')\n",
        "resultado.append(['RSLP TfidfVectorizer Trigrama com Naive Bayes', score])\n",
        "print('RSLP TfidfVectorizer Trigrama com Naive Bayes:', score)"
      ],
      "execution_count": 128,
      "outputs": [
        {
          "output_type": "stream",
          "text": [
            "RSLP TfidfVectorizer Trigrama com Naive Bayes: 0.6007578025087752\n"
          ],
          "name": "stdout"
        }
      ]
    },
    {
      "cell_type": "markdown",
      "metadata": {
        "id": "3UJ5VdnxiHgy"
      },
      "source": [
        "##### TfidfVectorizer + Stopwords"
      ]
    },
    {
      "cell_type": "code",
      "metadata": {
        "colab": {
          "base_uri": "https://localhost:8080/"
        },
        "id": "edY7PQkyiHgy",
        "outputId": "63eb0ddc-8dee-4a45-e46e-5f3bd93ac293"
      },
      "source": [
        "# RSLP TfidfVectorizer Unigrama e stopwords com Naive Bayes\n",
        "# treinamento do modelo Naive Bayes\n",
        "bayes = MultinomialNB()\n",
        "bayes.fit(rslp_tfidf1StopVect_train, df_train.sentimento)\n",
        "\n",
        "# escoragem da classificação na amostra de teste\n",
        "text_vect_test = rslp_tfidf1StopVect.transform(df_test.texto)\n",
        "y_prediction = bayes.predict(text_vect_test)\n",
        "\n",
        "# mensuração do resultado pela acurácia\n",
        "score = f1_score(y_prediction, df_test.sentimento, average='weighted')\n",
        "resultado.append(['RSLP TfidfVectorizer Unigrama e stopwords com Naive Bayes', score])\n",
        "print('RSLP TfidfVectorizer Unigrama e stopwords com Naive Bayes:', score)"
      ],
      "execution_count": 129,
      "outputs": [
        {
          "output_type": "stream",
          "text": [
            "RSLP TfidfVectorizer Unigrama e stopwords com Naive Bayes: 0.635861491787844\n"
          ],
          "name": "stdout"
        }
      ]
    },
    {
      "cell_type": "code",
      "metadata": {
        "colab": {
          "base_uri": "https://localhost:8080/"
        },
        "id": "WzymZWrJiHgz",
        "outputId": "6b6dec3c-cf8d-4a51-c8a6-ad74081547a2"
      },
      "source": [
        "# RSLP TfidfVectorizer Bigrama e stopwords com Naive Bayes\n",
        "# treinamento do modelo Naive Bayes\n",
        "bayes = MultinomialNB()\n",
        "bayes.fit(rslp_tfidf2StopVect_train, df_train.sentimento)\n",
        "\n",
        "# escoragem da classificação na amostra de teste\n",
        "text_vect_test = rslp_tfidf2StopVect.transform(df_test.texto)\n",
        "y_prediction = bayes.predict(text_vect_test)\n",
        "\n",
        "# mensuração do resultado pela acurácia\n",
        "score = f1_score(y_prediction, df_test.sentimento, average='weighted')\n",
        "resultado.append(['RSLP TfidfVectorizer Bigrama e stopwords com Naive Bayes', score])\n",
        "print('RSLP TfidfVectorizer Bigrama e stopwords com Naive Bayes:', score)"
      ],
      "execution_count": 130,
      "outputs": [
        {
          "output_type": "stream",
          "text": [
            "RSLP TfidfVectorizer Bigrama e stopwords com Naive Bayes: 0.618843495878549\n"
          ],
          "name": "stdout"
        }
      ]
    },
    {
      "cell_type": "code",
      "metadata": {
        "colab": {
          "base_uri": "https://localhost:8080/"
        },
        "id": "TD8U5vH5iHgz",
        "outputId": "5cc9d475-471c-46f1-a1a0-78d6bf9d9e8b"
      },
      "source": [
        "# RSLP TfidfVectorizer Trigrama e stopwords com Naive Bayes\n",
        "# treinamento do modelo Naive Bayes\n",
        "bayes = MultinomialNB()\n",
        "bayes.fit(rslp_tfidf3StopVect_train, df_train.sentimento)\n",
        "\n",
        "# escoragem da classificação na amostra de teste\n",
        "text_vect_test = rslp_tfidf3StopVect.transform(df_test.texto)\n",
        "y_prediction = bayes.predict(text_vect_test)\n",
        "\n",
        "# mensuração do resultado pela acurácia\n",
        "score = f1_score(y_prediction, df_test.sentimento, average='weighted')\n",
        "resultado.append(['RSLP TfidfVectorizer Trigrama e stopwords com Naive Bayes', score])\n",
        "print('RSLP TfidfVectorizer Trigrama e stopwords com Naive Bayes:', score)"
      ],
      "execution_count": 131,
      "outputs": [
        {
          "output_type": "stream",
          "text": [
            "RSLP TfidfVectorizer Trigrama e stopwords com Naive Bayes: 0.6650730607041289\n"
          ],
          "name": "stdout"
        }
      ]
    },
    {
      "cell_type": "markdown",
      "metadata": {
        "id": "k1N9YBQxiHgz"
      },
      "source": [
        "#### Snowball Stemmer\n",
        "\n"
      ]
    },
    {
      "cell_type": "markdown",
      "metadata": {
        "id": "GBt_HELXiHgz"
      },
      "source": [
        "##### CountVectorizer"
      ]
    },
    {
      "cell_type": "code",
      "metadata": {
        "colab": {
          "base_uri": "https://localhost:8080/"
        },
        "id": "U9O6rewaiHgz",
        "outputId": "175f1419-9511-40af-bb04-aef080fab2c3"
      },
      "source": [
        "# Snowball CountVectorizer Unigrama com Naive Bayes\n",
        "# treinamento do modelo Naive Bayes\n",
        "bayes = MultinomialNB()\n",
        "bayes.fit(snow_count1Vect_train, df_train.sentimento)\n",
        "\n",
        "# escoragem da classificação na amostra de teste\n",
        "text_vect_test = snow_count1Vect.transform(df_test.texto)\n",
        "y_prediction = bayes.predict(text_vect_test)\n",
        "\n",
        "# mensuração do resultado pela acurácia\n",
        "score = f1_score(y_prediction, df_test.sentimento, average='weighted')\n",
        "resultado.append(['Snowball CountVectorizer Unigrama com Naive Bayes', score])\n",
        "print('Snowball CountVectorizer Unigrama com Naive Bayes:', score)"
      ],
      "execution_count": 132,
      "outputs": [
        {
          "output_type": "stream",
          "text": [
            "Snowball CountVectorizer Unigrama com Naive Bayes: 0.7059505645407385\n"
          ],
          "name": "stdout"
        }
      ]
    },
    {
      "cell_type": "code",
      "metadata": {
        "colab": {
          "base_uri": "https://localhost:8080/"
        },
        "id": "6NPX_ByviHgz",
        "outputId": "e76e49d3-e691-40d6-bdc1-a81185a86bb7"
      },
      "source": [
        "# Snowball CountVectorizer Bigrama com Naive Bayes\n",
        "# treinamento do modelo Naive Bayes\n",
        "bayes = MultinomialNB()\n",
        "bayes.fit(snow_count2Vect_train, df_train.sentimento)\n",
        "\n",
        "# escoragem da classificação na amostra de teste\n",
        "text_vect_test = snow_count2Vect.transform(df_test.texto)\n",
        "y_prediction = bayes.predict(text_vect_test)\n",
        "\n",
        "# mensuração do resultado pela acurácia\n",
        "score = f1_score(y_prediction, df_test.sentimento, average='weighted')\n",
        "resultado.append(['Snowball CountVectorizer Bigrama com Naive Bayes', score])\n",
        "print('Snowball CountVectorizer Bigrama com Naive Bayes:', score)"
      ],
      "execution_count": 133,
      "outputs": [
        {
          "output_type": "stream",
          "text": [
            "Snowball CountVectorizer Bigrama com Naive Bayes: 0.6299629962996299\n"
          ],
          "name": "stdout"
        }
      ]
    },
    {
      "cell_type": "code",
      "metadata": {
        "colab": {
          "base_uri": "https://localhost:8080/"
        },
        "id": "3U2wbAyViHgz",
        "outputId": "7a179633-8e1e-414e-defa-3c2a7364ca7e"
      },
      "source": [
        "# Snowball CountVectorizer Trigrama com Naive Bayes\n",
        "# treinamento do modelo Naive Bayes\n",
        "bayes = MultinomialNB()\n",
        "bayes.fit(snow_count3Vect_train, df_train.sentimento)\n",
        "\n",
        "# escoragem da classificação na amostra de teste\n",
        "text_vect_test = snow_count3Vect.transform(df_test.texto)\n",
        "y_prediction = bayes.predict(text_vect_test)\n",
        "\n",
        "# mensuração do resultado pela acurácia\n",
        "score = f1_score(y_prediction, df_test.sentimento, average='weighted')\n",
        "resultado.append(['Snowball CountVectorizer Trigrama com Naive Bayes', score])\n",
        "print('Snowball CountVectorizer Trigrama com Naive Bayes:', score)"
      ],
      "execution_count": 134,
      "outputs": [
        {
          "output_type": "stream",
          "text": [
            "Snowball CountVectorizer Trigrama com Naive Bayes: 0.5701291162045841\n"
          ],
          "name": "stdout"
        }
      ]
    },
    {
      "cell_type": "markdown",
      "metadata": {
        "id": "N0fBG3M5iHg0"
      },
      "source": [
        "##### CountVectorizer + Stopwords"
      ]
    },
    {
      "cell_type": "code",
      "metadata": {
        "colab": {
          "base_uri": "https://localhost:8080/"
        },
        "id": "yMR28UWbiHg0",
        "outputId": "65f13184-4bc2-4455-f04c-99bffff162bc"
      },
      "source": [
        "# Snowball CountVectorizer Unigrama e stopwords com Naive Bayes\n",
        "# treinamento do modelo Naive Bayes\n",
        "bayes = MultinomialNB()\n",
        "bayes.fit(snow_count1StopVect_train, df_train.sentimento)\n",
        "\n",
        "# escoragem da classificação na amostra de teste\n",
        "text_vect_test = snow_count1StopVect.transform(df_test.texto)\n",
        "y_prediction = bayes.predict(text_vect_test)\n",
        "\n",
        "# mensuração do resultado pela acurácia\n",
        "score = f1_score(y_prediction, df_test.sentimento, average='weighted')\n",
        "resultado.append(['Snowball CountVectorizer Unigrama e stopwords com Naive Bayes', score])\n",
        "print('Snowball CountVectorizer Unigrama e stopwords com Naive Bayes:', score)"
      ],
      "execution_count": 135,
      "outputs": [
        {
          "output_type": "stream",
          "text": [
            "Snowball CountVectorizer Unigrama e stopwords com Naive Bayes: 0.6605104594134721\n"
          ],
          "name": "stdout"
        }
      ]
    },
    {
      "cell_type": "code",
      "metadata": {
        "colab": {
          "base_uri": "https://localhost:8080/"
        },
        "id": "n_4SBisfiHg1",
        "outputId": "7f78bf9e-94f9-4722-b8a9-e7c527067328"
      },
      "source": [
        "# Snowball CountVectorizer Bigrama e stopwords com Naive Bayes\n",
        "# treinamento do modelo Naive Bayes\n",
        "bayes = MultinomialNB()\n",
        "bayes.fit(snow_count2StopVect_train, df_train.sentimento)\n",
        "\n",
        "# escoragem da classificação na amostra de teste\n",
        "text_vect_test = snow_count2StopVect.transform(df_test.texto)\n",
        "y_prediction = bayes.predict(text_vect_test)\n",
        "\n",
        "# mensuração do resultado pela acurácia\n",
        "score = f1_score(y_prediction, df_test.sentimento, average='weighted')\n",
        "resultado.append(['Snowball CountVectorizer Bigrama e stopwords com Naive Bayes', score])\n",
        "print('Snowball CountVectorizer Bigrama e stopwords com Naive Bayes:', score)"
      ],
      "execution_count": 136,
      "outputs": [
        {
          "output_type": "stream",
          "text": [
            "Snowball CountVectorizer Bigrama e stopwords com Naive Bayes: 0.586125\n"
          ],
          "name": "stdout"
        }
      ]
    },
    {
      "cell_type": "code",
      "metadata": {
        "colab": {
          "base_uri": "https://localhost:8080/"
        },
        "id": "5w6oY3mJiHg1",
        "outputId": "cdce33f1-0760-4b17-d470-757f3bff0ca6"
      },
      "source": [
        "# Snowball CountVectorizer Trigrama e stopwords com Naive Bayes\n",
        "# treinamento do modelo Naive Bayes\n",
        "bayes = MultinomialNB()\n",
        "bayes.fit(snow_count3StopVect_train, df_train.sentimento)\n",
        "\n",
        "# escoragem da classificação na amostra de teste\n",
        "text_vect_test = snow_count3StopVect.transform(df_test.texto)\n",
        "y_prediction = bayes.predict(text_vect_test)\n",
        "\n",
        "# mensuração do resultado pela acurácia\n",
        "score = f1_score(y_prediction, df_test.sentimento, average='weighted')\n",
        "resultado.append(['Snowball CountVectorizer Trigrama e stopwords com Naive Bayes', score])\n",
        "print('Snowball CountVectorizer Trigrama e stopwords com Naive Bayes:', score)"
      ],
      "execution_count": 137,
      "outputs": [
        {
          "output_type": "stream",
          "text": [
            "Snowball CountVectorizer Trigrama e stopwords com Naive Bayes: 0.6650730607041289\n"
          ],
          "name": "stdout"
        }
      ]
    },
    {
      "cell_type": "markdown",
      "metadata": {
        "id": "62nPAHlAiHg1"
      },
      "source": [
        "##### TfidfVectorizer"
      ]
    },
    {
      "cell_type": "code",
      "metadata": {
        "colab": {
          "base_uri": "https://localhost:8080/"
        },
        "id": "k7OMg6qfiHg1",
        "outputId": "2a20f81d-2712-407a-a0dd-fdd90135d1f7"
      },
      "source": [
        "# Snowball TfidfVectorizer Unigrama com Naive Bayes\n",
        "# treinamento do modelo Naive Bayes\n",
        "bayes = MultinomialNB()\n",
        "bayes.fit(snow_tfidf1Vect_train, df_train.sentimento)\n",
        "\n",
        "# escoragem da classificação na amostra de teste\n",
        "text_vect_test = snow_tfidf1Vect.transform(df_test.texto)\n",
        "y_prediction = bayes.predict(text_vect_test)\n",
        "\n",
        "# mensuração do resultado pela acurácia\n",
        "score = f1_score(y_prediction, df_test.sentimento, average='weighted')\n",
        "resultado.append(['Snowball TfidfVectorizer Unigrama com Naive Bayes', score])\n",
        "print('Snowball TfidfVectorizer Unigrama com Naive Bayes:', score)"
      ],
      "execution_count": 138,
      "outputs": [
        {
          "output_type": "stream",
          "text": [
            "Snowball TfidfVectorizer Unigrama com Naive Bayes: 0.6963192904656319\n"
          ],
          "name": "stdout"
        }
      ]
    },
    {
      "cell_type": "code",
      "metadata": {
        "colab": {
          "base_uri": "https://localhost:8080/"
        },
        "id": "hJ6V7aLriHg1",
        "outputId": "ec3f8a8f-af1d-47a7-9e0b-5e03be688a23"
      },
      "source": [
        "# Snowball TfidfVectorizer Bigrama com Naive Bayes\n",
        "# treinamento do modelo Naive Bayes\n",
        "bayes = MultinomialNB()\n",
        "bayes.fit(snow_tfidf2Vect_train, df_train.sentimento)\n",
        "\n",
        "# escoragem da classificação na amostra de teste\n",
        "text_vect_test = snow_tfidf2Vect.transform(df_test.texto)\n",
        "y_prediction = bayes.predict(text_vect_test)\n",
        "\n",
        "# mensuração do resultado pela acurácia\n",
        "score = f1_score(y_prediction, df_test.sentimento, average='weighted')\n",
        "resultado.append(['Snowball TfidfVectorizer Bigrama com Naive Bayes', score])\n",
        "print('Snowball TfidfVectorizer Bigrama com Naive Bayes:', score)"
      ],
      "execution_count": 139,
      "outputs": [
        {
          "output_type": "stream",
          "text": [
            "Snowball TfidfVectorizer Bigrama com Naive Bayes: 0.6404387155133423\n"
          ],
          "name": "stdout"
        }
      ]
    },
    {
      "cell_type": "code",
      "metadata": {
        "colab": {
          "base_uri": "https://localhost:8080/"
        },
        "id": "HU2l6Vn8iHg1",
        "outputId": "a9c668b8-1251-48a3-83ac-d9fc4055cfa3"
      },
      "source": [
        "# Snowball TfidfVectorizer Trigrama com Naive Bayes\n",
        "# treinamento do modelo Naive Bayes\n",
        "bayes = MultinomialNB()\n",
        "bayes.fit(snow_tfidf3Vect_train, df_train.sentimento)\n",
        "\n",
        "# escoragem da classificação na amostra de teste\n",
        "text_vect_test = snow_tfidf3Vect.transform(df_test.texto)\n",
        "y_prediction = bayes.predict(text_vect_test)\n",
        "\n",
        "# mensuração do resultado pela acurácia\n",
        "score = f1_score(y_prediction, df_test.sentimento, average='weighted')\n",
        "resultado.append(['Snowball TfidfVectorizer Trigrama com Naive Bayes', score])\n",
        "print('Snowball TfidfVectorizer Trigrama com Naive Bayes:', score)"
      ],
      "execution_count": 140,
      "outputs": [
        {
          "output_type": "stream",
          "text": [
            "Snowball TfidfVectorizer Trigrama com Naive Bayes: 0.6164827586206897\n"
          ],
          "name": "stdout"
        }
      ]
    },
    {
      "cell_type": "markdown",
      "metadata": {
        "id": "LO30_I5HiHg2"
      },
      "source": [
        "##### TfidfVectorizer + Stopwords"
      ]
    },
    {
      "cell_type": "code",
      "metadata": {
        "colab": {
          "base_uri": "https://localhost:8080/"
        },
        "id": "aL0oFBV9iHg2",
        "outputId": "5be4919f-f054-4e2e-9106-c46a5735899e"
      },
      "source": [
        "# Snowball TfidfVectorizer Unigrama e stopwords com Naive Bayes\n",
        "# treinamento do modelo Naive Bayes\n",
        "bayes = MultinomialNB()\n",
        "bayes.fit(snow_tfidf1StopVect_train, df_train.sentimento)\n",
        "\n",
        "# escoragem da classificação na amostra de teste\n",
        "text_vect_test = snow_tfidf1StopVect.transform(df_test.texto)\n",
        "y_prediction = bayes.predict(text_vect_test)\n",
        "\n",
        "# mensuração do resultado pela acurácia\n",
        "score = f1_score(y_prediction, df_test.sentimento, average='weighted')\n",
        "resultado.append(['Snowball TfidfVectorizer Unigrama e stopwords com Naive Bayes', score])\n",
        "print('Snowball TfidfVectorizer Unigrama e stopwords com Naive Bayes:', score)"
      ],
      "execution_count": 141,
      "outputs": [
        {
          "output_type": "stream",
          "text": [
            "Snowball TfidfVectorizer Unigrama e stopwords com Naive Bayes: 0.6913846153846154\n"
          ],
          "name": "stdout"
        }
      ]
    },
    {
      "cell_type": "code",
      "metadata": {
        "colab": {
          "base_uri": "https://localhost:8080/"
        },
        "id": "S6Sx06ORiHg2",
        "outputId": "073f75cb-9018-4c11-b36c-a0b2314d9e6a"
      },
      "source": [
        "# Snowball TfidfVectorizer Bigrama e stopwords com Naive Bayes\n",
        "# treinamento do modelo Naive Bayes\n",
        "bayes = MultinomialNB()\n",
        "bayes.fit(snow_tfidf2StopVect_train, df_train.sentimento)\n",
        "\n",
        "# escoragem da classificação na amostra de teste\n",
        "text_vect_test = snow_tfidf2StopVect.transform(df_test.texto)\n",
        "y_prediction = bayes.predict(text_vect_test)\n",
        "\n",
        "# mensuração do resultado pela acurácia\n",
        "score = f1_score(y_prediction, df_test.sentimento, average='weighted')\n",
        "resultado.append(['Snowball TfidfVectorizer Bigrama e stopwords com Naive Bayes', score])\n",
        "print('Snowball TfidfVectorizer Bigrama e stopwords com Naive Bayes:', score)"
      ],
      "execution_count": 142,
      "outputs": [
        {
          "output_type": "stream",
          "text": [
            "Snowball TfidfVectorizer Bigrama e stopwords com Naive Bayes: 0.605359565807327\n"
          ],
          "name": "stdout"
        }
      ]
    },
    {
      "cell_type": "code",
      "metadata": {
        "colab": {
          "base_uri": "https://localhost:8080/"
        },
        "id": "T0aSTcYTiHg2",
        "outputId": "0f1a7e10-42c3-420c-807c-d6d4a5d4f62b"
      },
      "source": [
        "# Snowball TfidfVectorizer Trigrama e stopwords com Naive Bayes\n",
        "# treinamento do modelo Naive Bayes\n",
        "bayes = MultinomialNB()\n",
        "bayes.fit(snow_tfidf3StopVect_train, df_train.sentimento)\n",
        "\n",
        "# escoragem da classificação na amostra de teste\n",
        "text_vect_test = snow_tfidf3StopVect.transform(df_test.texto)\n",
        "y_prediction = bayes.predict(text_vect_test)\n",
        "\n",
        "# mensuração do resultado pela acurácia\n",
        "score = f1_score(y_prediction, df_test.sentimento, average='weighted')\n",
        "resultado.append(['Snowball TfidfVectorizer Trigrama e stopwords com Naive Bayes', score])\n",
        "print('Snowball TfidfVectorizer Trigrama e stopwords com Naive Bayes:', score)"
      ],
      "execution_count": 143,
      "outputs": [
        {
          "output_type": "stream",
          "text": [
            "Snowball TfidfVectorizer Trigrama e stopwords com Naive Bayes: 0.666045564422663\n"
          ],
          "name": "stdout"
        }
      ]
    },
    {
      "cell_type": "markdown",
      "metadata": {
        "id": "jq6bQ0evvCHT"
      },
      "source": [
        "#### Lemma\n",
        "\n"
      ]
    },
    {
      "cell_type": "markdown",
      "metadata": {
        "id": "WvlzeQ9rvCHU"
      },
      "source": [
        "##### CountVectorizer"
      ]
    },
    {
      "cell_type": "code",
      "metadata": {
        "colab": {
          "base_uri": "https://localhost:8080/"
        },
        "id": "rPRC8JxAvCHV",
        "outputId": "236844ed-43ce-4ce1-a85f-fcc9b0e8e66f"
      },
      "source": [
        "# Lemma CountVectorizer Unigrama com Naive Bayes\n",
        "# treinamento do modelo Naive Bayes\n",
        "bayes = MultinomialNB()\n",
        "bayes.fit(lemma_count1Vect_train, df_train.sentimento)\n",
        "\n",
        "# escoragem da classificação na amostra de teste\n",
        "text_vect_test = lemma_count1Vect.transform(df_test.texto)\n",
        "y_prediction = bayes.predict(text_vect_test)\n",
        "\n",
        "# mensuração do resultado pela acurácia\n",
        "score = f1_score(y_prediction, df_test.sentimento, average='weighted')\n",
        "resultado.append(['Lemma CountVectorizer Unigrama com Naive Bayes', score])\n",
        "print('Lemma CountVectorizer Unigrama com Naive Bayes:', score)"
      ],
      "execution_count": 144,
      "outputs": [
        {
          "output_type": "stream",
          "text": [
            "Lemma CountVectorizer Unigrama com Naive Bayes: 0.73008100810081\n"
          ],
          "name": "stdout"
        }
      ]
    },
    {
      "cell_type": "code",
      "metadata": {
        "colab": {
          "base_uri": "https://localhost:8080/"
        },
        "id": "PXGe6aNlvCHV",
        "outputId": "9f5b2ba4-5cd3-4e9c-a4c1-d44c67b96fd0"
      },
      "source": [
        "# Lemma CountVectorizer Bigrama com Naive Bayes\n",
        "# treinamento do modelo Naive Bayes\n",
        "bayes = MultinomialNB()\n",
        "bayes.fit(lemma_count2Vect_train, df_train.sentimento)\n",
        "\n",
        "# escoragem da classificação na amostra de teste\n",
        "text_vect_test = lemma_count2Vect.transform(df_test.texto)\n",
        "y_prediction = bayes.predict(text_vect_test)\n",
        "\n",
        "# mensuração do resultado pela acurácia\n",
        "score = f1_score(y_prediction, df_test.sentimento, average='weighted')\n",
        "resultado.append(['Lemma CountVectorizer Bigrama com Naive Bayes', score])\n",
        "print('Lemma CountVectorizer Bigrama com Naive Bayes:', score)"
      ],
      "execution_count": 145,
      "outputs": [
        {
          "output_type": "stream",
          "text": [
            "Lemma CountVectorizer Bigrama com Naive Bayes: 0.6765456209948124\n"
          ],
          "name": "stdout"
        }
      ]
    },
    {
      "cell_type": "code",
      "metadata": {
        "colab": {
          "base_uri": "https://localhost:8080/"
        },
        "id": "FQ9LsnwdvCHW",
        "outputId": "f14a153d-1810-4cf6-dba4-9f5284e320ea"
      },
      "source": [
        "# Lemma CountVectorizer Trigrama com Naive Bayes\n",
        "# treinamento do modelo Naive Bayes\n",
        "bayes = MultinomialNB()\n",
        "bayes.fit(lemma_count3Vect_train, df_train.sentimento)\n",
        "\n",
        "# escoragem da classificação na amostra de teste\n",
        "text_vect_test = lemma_count3Vect.transform(df_test.texto)\n",
        "y_prediction = bayes.predict(text_vect_test)\n",
        "\n",
        "# mensuração do resultado pela acurácia\n",
        "score = f1_score(y_prediction, df_test.sentimento, average='weighted')\n",
        "resultado.append(['Lemma CountVectorizer Trigrama com Naive Bayes', score])\n",
        "print('Lemma CountVectorizer Trigrama com Naive Bayes:', score)"
      ],
      "execution_count": 146,
      "outputs": [
        {
          "output_type": "stream",
          "text": [
            "Lemma CountVectorizer Trigrama com Naive Bayes: 0.6257240652975249\n"
          ],
          "name": "stdout"
        }
      ]
    },
    {
      "cell_type": "markdown",
      "metadata": {
        "id": "U8Q9yMy2vCHW"
      },
      "source": [
        "##### CountVectorizer + Stopwords"
      ]
    },
    {
      "cell_type": "code",
      "metadata": {
        "colab": {
          "base_uri": "https://localhost:8080/"
        },
        "id": "9F3eJIZjvCHW",
        "outputId": "78ce9f49-c4e0-4cdb-ae37-6d3b503b667a"
      },
      "source": [
        "# Lemma CountVectorizer Unigrama e stopwords com Naive Bayes\n",
        "# treinamento do modelo Naive Bayes\n",
        "bayes = MultinomialNB()\n",
        "bayes.fit(lemma_count1StopVect_train, df_train.sentimento)\n",
        "\n",
        "# escoragem da classificação na amostra de teste\n",
        "text_vect_test = lemma_count1StopVect.transform(df_test.texto)\n",
        "y_prediction = bayes.predict(text_vect_test)\n",
        "\n",
        "# mensuração do resultado pela acurácia\n",
        "score = f1_score(y_prediction, df_test.sentimento, average='weighted')\n",
        "resultado.append(['Lemma CountVectorizer Unigrama e stopwords com Naive Bayes', score])\n",
        "print('Lemma CountVectorizer Unigrama e stopwords com Naive Bayes:', score)"
      ],
      "execution_count": 147,
      "outputs": [
        {
          "output_type": "stream",
          "text": [
            "Lemma CountVectorizer Unigrama e stopwords com Naive Bayes: 0.7217784050811573\n"
          ],
          "name": "stdout"
        }
      ]
    },
    {
      "cell_type": "code",
      "metadata": {
        "colab": {
          "base_uri": "https://localhost:8080/"
        },
        "id": "BZOrQQ2tvCHW",
        "outputId": "1f2eea23-9b31-4bb5-e66e-279d8cf98464"
      },
      "source": [
        "# Lemma CountVectorizer Bigrama e stopwords com Naive Bayes\n",
        "# treinamento do modelo Naive Bayes\n",
        "bayes = MultinomialNB()\n",
        "bayes.fit(lemma_count2StopVect_train, df_train.sentimento)\n",
        "\n",
        "# escoragem da classificação na amostra de teste\n",
        "text_vect_test = lemma_count2StopVect.transform(df_test.texto)\n",
        "y_prediction = bayes.predict(text_vect_test)\n",
        "\n",
        "# mensuração do resultado pela acurácia\n",
        "score = f1_score(y_prediction, df_test.sentimento, average='weighted')\n",
        "resultado.append(['Lemma CountVectorizer Bigrama e stopwords com Naive Bayes', score])\n",
        "print('Lemma CountVectorizer Bigrama e stopwords com Naive Bayes:', score)"
      ],
      "execution_count": 148,
      "outputs": [
        {
          "output_type": "stream",
          "text": [
            "Lemma CountVectorizer Bigrama e stopwords com Naive Bayes: 0.63\n"
          ],
          "name": "stdout"
        }
      ]
    },
    {
      "cell_type": "code",
      "metadata": {
        "colab": {
          "base_uri": "https://localhost:8080/"
        },
        "id": "yrB39bkcvCHX",
        "outputId": "8d78124b-06cf-4340-b590-d4efffcbe710"
      },
      "source": [
        "# Lemma CountVectorizer Trigrama e stopwords com Naive Bayes\n",
        "# treinamento do modelo Naive Bayes\n",
        "bayes = MultinomialNB()\n",
        "bayes.fit(lemma_count3StopVect_train, df_train.sentimento)\n",
        "\n",
        "# escoragem da classificação na amostra de teste\n",
        "text_vect_test = lemma_count3StopVect.transform(df_test.texto)\n",
        "y_prediction = bayes.predict(text_vect_test)\n",
        "\n",
        "# mensuração do resultado pela acurácia\n",
        "score = f1_score(y_prediction, df_test.sentimento, average='weighted')\n",
        "resultado.append(['Lemma CountVectorizer Trigrama e stopwords com Naive Bayes', score])\n",
        "print('Lemma CountVectorizer Trigrama e stopwords com Naive Bayes:', score)"
      ],
      "execution_count": 149,
      "outputs": [
        {
          "output_type": "stream",
          "text": [
            "Lemma CountVectorizer Trigrama e stopwords com Naive Bayes: 0.6577649835730917\n"
          ],
          "name": "stdout"
        }
      ]
    },
    {
      "cell_type": "markdown",
      "metadata": {
        "id": "2OcLhCV4vCHX"
      },
      "source": [
        "##### TfidfVectorizer"
      ]
    },
    {
      "cell_type": "code",
      "metadata": {
        "colab": {
          "base_uri": "https://localhost:8080/"
        },
        "id": "yXQ6wQm3vCHX",
        "outputId": "584c0c36-e888-4751-d43f-23f6265327fc"
      },
      "source": [
        "# Lemma TfidfVectorizer Unigrama com Naive Bayes\n",
        "# treinamento do modelo Naive Bayes\n",
        "bayes = MultinomialNB()\n",
        "bayes.fit(lemma_tfidf1Vect_train, df_train.sentimento)\n",
        "\n",
        "# escoragem da classificação na amostra de teste\n",
        "text_vect_test = lemma_tfidf1Vect.transform(df_test.texto)\n",
        "y_prediction = bayes.predict(text_vect_test)\n",
        "\n",
        "# mensuração do resultado pela acurácia\n",
        "score = f1_score(y_prediction, df_test.sentimento, average='weighted')\n",
        "resultado.append(['Lemma TfidfVectorizer Unigrama com Naive Bayes', score])\n",
        "print('Lemma TfidfVectorizer Unigrama com Naive Bayes:', score)"
      ],
      "execution_count": 150,
      "outputs": [
        {
          "output_type": "stream",
          "text": [
            "Lemma TfidfVectorizer Unigrama com Naive Bayes: 0.7504672250826097\n"
          ],
          "name": "stdout"
        }
      ]
    },
    {
      "cell_type": "code",
      "metadata": {
        "colab": {
          "base_uri": "https://localhost:8080/"
        },
        "id": "kzFwiOz9vCHX",
        "outputId": "0a82dad6-a57f-48e7-a4b9-864de9ec6c5b"
      },
      "source": [
        "# Lemma TfidfVectorizer Bigrama com Naive Bayes\n",
        "# treinamento do modelo Naive Bayes\n",
        "bayes = MultinomialNB()\n",
        "bayes.fit(lemma_tfidf2Vect_train, df_train.sentimento)\n",
        "\n",
        "# escoragem da classificação na amostra de teste\n",
        "text_vect_test = lemma_tfidf2Vect.transform(df_test.texto)\n",
        "y_prediction = bayes.predict(text_vect_test)\n",
        "\n",
        "# mensuração do resultado pela acurácia\n",
        "score = f1_score(y_prediction, df_test.sentimento, average='weighted')\n",
        "resultado.append(['Lemma TfidfVectorizer Bigrama com Naive Bayes', score])\n",
        "print('Lemma TfidfVectorizer Bigrama com Naive Bayes:', score)"
      ],
      "execution_count": 151,
      "outputs": [
        {
          "output_type": "stream",
          "text": [
            "Lemma TfidfVectorizer Bigrama com Naive Bayes: 0.7332873376623377\n"
          ],
          "name": "stdout"
        }
      ]
    },
    {
      "cell_type": "code",
      "metadata": {
        "colab": {
          "base_uri": "https://localhost:8080/"
        },
        "id": "1xHL43tkvCHY",
        "outputId": "461517ed-6fb9-4012-b2d1-5904041263d4"
      },
      "source": [
        "# Lemma TfidfVectorizer Trigrama com Naive Bayes\n",
        "# treinamento do modelo Naive Bayes\n",
        "bayes = MultinomialNB()\n",
        "bayes.fit(lemma_tfidf3Vect_train, df_train.sentimento)\n",
        "\n",
        "# escoragem da classificação na amostra de teste\n",
        "text_vect_test = lemma_tfidf3Vect.transform(df_test.texto)\n",
        "y_prediction = bayes.predict(text_vect_test)\n",
        "\n",
        "# mensuração do resultado pela acurácia\n",
        "score = f1_score(y_prediction, df_test.sentimento, average='weighted')\n",
        "resultado.append(['Lemma TfidfVectorizer Trigrama com Naive Bayes', score])\n",
        "print('Lemma TfidfVectorizer Trigrama com Naive Bayes:', score)"
      ],
      "execution_count": 152,
      "outputs": [
        {
          "output_type": "stream",
          "text": [
            "Lemma TfidfVectorizer Trigrama com Naive Bayes: 0.6198511487433934\n"
          ],
          "name": "stdout"
        }
      ]
    },
    {
      "cell_type": "markdown",
      "metadata": {
        "id": "wPRfdazTvCHY"
      },
      "source": [
        "##### TfidfVectorizer + Stopwords"
      ]
    },
    {
      "cell_type": "code",
      "metadata": {
        "colab": {
          "base_uri": "https://localhost:8080/"
        },
        "id": "qQ6eT7JBvCHY",
        "outputId": "7e886ffc-9ce9-499d-f87b-4ce67c82b984"
      },
      "source": [
        "# Lemma TfidfVectorizer Unigrama e stopwords com Naive Bayes\n",
        "# treinamento do modelo Naive Bayes\n",
        "bayes = MultinomialNB()\n",
        "bayes.fit(lemma_tfidf1StopVect_train, df_train.sentimento)\n",
        "\n",
        "# escoragem da classificação na amostra de teste\n",
        "text_vect_test = lemma_tfidf1StopVect.transform(df_test.texto)\n",
        "y_prediction = bayes.predict(text_vect_test)\n",
        "\n",
        "# mensuração do resultado pela acurácia\n",
        "score = f1_score(y_prediction, df_test.sentimento, average='weighted')\n",
        "resultado.append(['Lemma TfidfVectorizer Unigrama e stopwords com Naive Bayes', score])\n",
        "print('Lemma TfidfVectorizer Unigrama e stopwords com Naive Bayes:', score)"
      ],
      "execution_count": 153,
      "outputs": [
        {
          "output_type": "stream",
          "text": [
            "Lemma TfidfVectorizer Unigrama e stopwords com Naive Bayes: 0.7329466162253047\n"
          ],
          "name": "stdout"
        }
      ]
    },
    {
      "cell_type": "code",
      "metadata": {
        "colab": {
          "base_uri": "https://localhost:8080/"
        },
        "id": "q9C9GMBhvCHY",
        "outputId": "56df6bb1-0e08-467a-87ae-ef3931837b3a"
      },
      "source": [
        "# Lemma TfidfVectorizer Bigrama e stopwords com Naive Bayes\n",
        "# treinamento do modelo Naive Bayes\n",
        "bayes = MultinomialNB()\n",
        "bayes.fit(lemma_tfidf2StopVect_train, df_train.sentimento)\n",
        "\n",
        "# escoragem da classificação na amostra de teste\n",
        "text_vect_test = lemma_tfidf2StopVect.transform(df_test.texto)\n",
        "y_prediction = bayes.predict(text_vect_test)\n",
        "\n",
        "# mensuração do resultado pela acurácia\n",
        "score = f1_score(y_prediction, df_test.sentimento, average='weighted')\n",
        "resultado.append(['Lemma TfidfVectorizer Bigrama e stopwords com Naive Bayes', score])\n",
        "print('Lemma TfidfVectorizer Bigrama e stopwords com Naive Bayes:', score)"
      ],
      "execution_count": 154,
      "outputs": [
        {
          "output_type": "stream",
          "text": [
            "Lemma TfidfVectorizer Bigrama e stopwords com Naive Bayes: 0.6275805626598465\n"
          ],
          "name": "stdout"
        }
      ]
    },
    {
      "cell_type": "code",
      "metadata": {
        "colab": {
          "base_uri": "https://localhost:8080/"
        },
        "id": "xE7tI1-fvCHY",
        "outputId": "b1ecea88-9834-40c2-9e36-9c6e7ecaacfe"
      },
      "source": [
        "# Lemma TfidfVectorizer Trigrama e stopwords com Naive Bayes\n",
        "# treinamento do modelo Naive Bayes\n",
        "bayes = MultinomialNB()\n",
        "bayes.fit(lemma_tfidf3StopVect_train, df_train.sentimento)\n",
        "\n",
        "# escoragem da classificação na amostra de teste\n",
        "text_vect_test = lemma_tfidf3StopVect.transform(df_test.texto)\n",
        "y_prediction = bayes.predict(text_vect_test)\n",
        "\n",
        "# mensuração do resultado pela acurácia\n",
        "score = f1_score(y_prediction, df_test.sentimento, average='weighted')\n",
        "resultado.append(['Lemma TfidfVectorizer Trigrama e stopwords com Naive Bayes', score])\n",
        "print('Lemma TfidfVectorizer Trigrama e stopwords com Naive Bayes:', score)"
      ],
      "execution_count": 155,
      "outputs": [
        {
          "output_type": "stream",
          "text": [
            "Lemma TfidfVectorizer Trigrama e stopwords com Naive Bayes: 0.6575895263765884\n"
          ],
          "name": "stdout"
        }
      ]
    },
    {
      "cell_type": "markdown",
      "metadata": {
        "id": "ZAc0jzmiAVso"
      },
      "source": [
        "## Resultados"
      ]
    },
    {
      "cell_type": "code",
      "metadata": {
        "colab": {
          "base_uri": "https://localhost:8080/",
          "height": 419
        },
        "id": "10ZwAMsgAVsp",
        "outputId": "42bc1142-df6c-43a7-afc6-1f19b0c96a11"
      },
      "source": [
        "# Resumo de resultados\n",
        "df_res = pd.DataFrame(np.unique(np.array(resultado), axis=0), columns=['Técnica', 'F1 Score'])\n",
        "df_res.sort_values(by='F1 Score', ascending=False)\n"
      ],
      "execution_count": 156,
      "outputs": [
        {
          "output_type": "execute_result",
          "data": {
            "text/html": [
              "<div>\n",
              "<style scoped>\n",
              "    .dataframe tbody tr th:only-of-type {\n",
              "        vertical-align: middle;\n",
              "    }\n",
              "\n",
              "    .dataframe tbody tr th {\n",
              "        vertical-align: top;\n",
              "    }\n",
              "\n",
              "    .dataframe thead th {\n",
              "        text-align: right;\n",
              "    }\n",
              "</style>\n",
              "<table border=\"1\" class=\"dataframe\">\n",
              "  <thead>\n",
              "    <tr style=\"text-align: right;\">\n",
              "      <th></th>\n",
              "      <th>Técnica</th>\n",
              "      <th>F1 Score</th>\n",
              "    </tr>\n",
              "  </thead>\n",
              "  <tbody>\n",
              "    <tr>\n",
              "      <th>72</th>\n",
              "      <td>Texto CountVectorizer Bigrama com Naive Bayes</td>\n",
              "      <td>0.8001600640256101</td>\n",
              "    </tr>\n",
              "    <tr>\n",
              "      <th>92</th>\n",
              "      <td>Texto TfidfVectorizer Unigrama com Naive Bayes</td>\n",
              "      <td>0.799395220164451</td>\n",
              "    </tr>\n",
              "    <tr>\n",
              "      <th>80</th>\n",
              "      <td>Texto CountVectorizer Unigrama com Naive Bayes</td>\n",
              "      <td>0.7951076492210748</td>\n",
              "    </tr>\n",
              "    <tr>\n",
              "      <th>84</th>\n",
              "      <td>Texto TfidfVectorizer Bigrama com Naive Bayes</td>\n",
              "      <td>0.7910161186331399</td>\n",
              "    </tr>\n",
              "    <tr>\n",
              "      <th>82</th>\n",
              "      <td>Texto CountVectorizer Unigrama e stopwords com...</td>\n",
              "      <td>0.7900630063006301</td>\n",
              "    </tr>\n",
              "    <tr>\n",
              "      <th>...</th>\n",
              "      <td>...</td>\n",
              "      <td>...</td>\n",
              "    </tr>\n",
              "    <tr>\n",
              "      <th>1</th>\n",
              "      <td>Lemma CountVectorizer Bigrama com arvore de de...</td>\n",
              "      <td>0.595648452929559</td>\n",
              "    </tr>\n",
              "    <tr>\n",
              "      <th>50</th>\n",
              "      <td>Snowball CountVectorizer Bigrama e stopwords c...</td>\n",
              "      <td>0.586125</td>\n",
              "    </tr>\n",
              "    <tr>\n",
              "      <th>89</th>\n",
              "      <td>Texto TfidfVectorizer Trigrama com arvore de d...</td>\n",
              "      <td>0.5798850574712644</td>\n",
              "    </tr>\n",
              "    <tr>\n",
              "      <th>52</th>\n",
              "      <td>Snowball CountVectorizer Trigrama com Naive Bayes</td>\n",
              "      <td>0.5701291162045841</td>\n",
              "    </tr>\n",
              "    <tr>\n",
              "      <th>61</th>\n",
              "      <td>Snowball TfidfVectorizer Bigrama com arvore de...</td>\n",
              "      <td>0.5285712443584785</td>\n",
              "    </tr>\n",
              "  </tbody>\n",
              "</table>\n",
              "<p>96 rows × 2 columns</p>\n",
              "</div>"
            ],
            "text/plain": [
              "                                              Técnica            F1 Score\n",
              "72      Texto CountVectorizer Bigrama com Naive Bayes  0.8001600640256101\n",
              "92     Texto TfidfVectorizer Unigrama com Naive Bayes   0.799395220164451\n",
              "80     Texto CountVectorizer Unigrama com Naive Bayes  0.7951076492210748\n",
              "84      Texto TfidfVectorizer Bigrama com Naive Bayes  0.7910161186331399\n",
              "82  Texto CountVectorizer Unigrama e stopwords com...  0.7900630063006301\n",
              "..                                                ...                 ...\n",
              "1   Lemma CountVectorizer Bigrama com arvore de de...   0.595648452929559\n",
              "50  Snowball CountVectorizer Bigrama e stopwords c...            0.586125\n",
              "89  Texto TfidfVectorizer Trigrama com arvore de d...  0.5798850574712644\n",
              "52  Snowball CountVectorizer Trigrama com Naive Bayes  0.5701291162045841\n",
              "61  Snowball TfidfVectorizer Bigrama com arvore de...  0.5285712443584785\n",
              "\n",
              "[96 rows x 2 columns]"
            ]
          },
          "metadata": {
            "tags": []
          },
          "execution_count": 156
        }
      ]
    },
    {
      "cell_type": "code",
      "metadata": {
        "colab": {
          "base_uri": "https://localhost:8080/"
        },
        "id": "SK43gjEcw12W",
        "outputId": "3b090055-cc78-49b4-d9a8-3270c8a28a3a"
      },
      "source": [
        "print('Modelo com maior F1 score:', df_res.iloc[72, 0])"
      ],
      "execution_count": 163,
      "outputs": [
        {
          "output_type": "stream",
          "text": [
            "Modelo com maior F1 score: Texto CountVectorizer Bigrama com Naive Bayes\n"
          ],
          "name": "stdout"
        }
      ]
    },
    {
      "cell_type": "markdown",
      "metadata": {
        "id": "68SiMjcWqD_m"
      },
      "source": [
        "## Validação do professor"
      ]
    },
    {
      "cell_type": "markdown",
      "metadata": {
        "id": "T24EasckqG2I"
      },
      "source": [
        "Consolidar apenas os scripts do seu **modelo campeão**, desde o carregamento do dataframe, separação das amostras, tratamentos (funções, limpeza, etc.), criação dos objetos de vetorização e modelo treinado e outras implementações utilizadas no processo de desenvolvimento do modelo."
      ]
    },
    {
      "cell_type": "markdown",
      "metadata": {
        "id": "TQRpqC7xuZZ5"
      },
      "source": [
        "Para elaboração desta solução, optamos por testar em uma amostra de 1000 frases, todas as combinações que julgamos apropriadas utilizando: \n",
        " - Stopwords:\n",
        "    - sem remoção de Stopwords\n",
        "    - com remoção de Stopwords\n",
        " - Stemming e Lemma:\n",
        "    - Texto original\n",
        "    - RSLP Stemmer\n",
        "    - Snowball Stemmer\n",
        "    - Lemmatizaçào (via SpaCy)\n",
        " - Vectorização:  \n",
        "    - CountVectorizer (unigramas, bigramas ou trigramas)\n",
        "    - TfidfVectorizer (unigramas, bigramas ou trigramas)\n",
        " - Modelo:\n",
        "    - Árvore de Decisão\n",
        "    - Naive Bayes\n",
        "\n",
        "Escolhemos o modelo que melhor performou para ser a resposta final. \n",
        "\n",
        "**Favor executar todas as células apartir deste ponto**\n"
      ]
    },
    {
      "cell_type": "code",
      "metadata": {
        "colab": {
          "base_uri": "https://localhost:8080/"
        },
        "id": "VF8HQtd2gjSE",
        "outputId": "20f9dc17-3e6c-4d8d-c9d5-ebb5a8319437"
      },
      "source": [
        "# Import e downlaod de bibliotecas utilizadas a seguir\n",
        "import pandas as pd\n",
        "import numpy as np\n",
        "from sklearn.model_selection import train_test_split\n",
        "import nltk\n",
        "\n",
        "from sklearn.feature_extraction.text import CountVectorizer\n",
        "\n",
        "from sklearn.naive_bayes import MultinomialNB\n",
        "from sklearn.metrics import f1_score\n",
        "\n",
        "df_full = pd.read_csv('https://dados-ml-pln.s3-sa-east-1.amazonaws.com/reviews-pt-br.csv', encoding='utf-8')\n",
        "\n",
        "df_train, df_test = train_test_split(df_full.copy(), test_size = 0.2, random_state = 42)\n",
        "\n",
        "# CountVectorizer com bigrama usando o texto original\n",
        "text_count2Vect = CountVectorizer(ngram_range=(2,2))\n",
        "text_count2Vect.fit(df_train.texto)\n",
        "text_count2Vect_train = text_count2Vect.transform(df_train.texto)\n",
        "\n",
        "# treinamento do modelo Naive Bayes\n",
        "bayes = MultinomialNB()\n",
        "bayes.fit(text_count2Vect_train, df_train.sentimento)"
      ],
      "execution_count": 158,
      "outputs": [
        {
          "output_type": "execute_result",
          "data": {
            "text/plain": [
              "MultinomialNB(alpha=1.0, class_prior=None, fit_prior=True)"
            ]
          },
          "metadata": {
            "tags": []
          },
          "execution_count": 158
        }
      ]
    },
    {
      "cell_type": "code",
      "metadata": {
        "id": "PAWTX7gXC759"
      },
      "source": [
        "dfTeste = df_test"
      ],
      "execution_count": 159,
      "outputs": []
    },
    {
      "cell_type": "code",
      "metadata": {
        "colab": {
          "base_uri": "https://localhost:8080/"
        },
        "id": "BBnP1WneuZZ6",
        "outputId": "f5acaad5-100a-4c8c-b608-769845fbc1ee"
      },
      "source": [
        "# escoragem da classificação na amostra de teste\n",
        "text_vect_test = text_count2Vect.transform(dfTeste.texto)\n",
        "y_prediction = bayes.predict(text_vect_test)\n",
        "\n",
        "# mensuração do resultado pela acurácia\n",
        "score = f1_score(y_prediction, dfTeste.sentimento, average='weighted')\n",
        "print('F1 Score de teste utilizando o texto original com CountVectorizer, Bigramas e Naive Bayes:', score)"
      ],
      "execution_count": 160,
      "outputs": [
        {
          "output_type": "stream",
          "text": [
            "F1 Score de teste utilizando o texto original com CountVectorizer, Bigramas e Naive Bayes: 0.8843036455724294\n"
          ],
          "name": "stdout"
        }
      ]
    },
    {
      "cell_type": "markdown",
      "metadata": {
        "id": "j6bv4mm7rrUH"
      },
      "source": [
        "Aqui implemente a parte do **script de teste** do seu modelo e imprima a métrica F1 Score no final do script.\n",
        "\n",
        "Obs.: Pense que o professor irá subistituir seu dataframe de teste ( **dfTeste** ) por outro e testar a performance do seu modelo com dados que não foram utilizados no desenvolvimento."
      ]
    },
    {
      "cell_type": "code",
      "metadata": {
        "id": "U6ezqmGVo3MA",
        "colab": {
          "base_uri": "https://localhost:8080/",
          "height": 35
        },
        "outputId": "4ec423ef-ff3b-4941-ebbb-5e9e12f1cd83"
      },
      "source": [
        "'''\n",
        "# PARTE DO PROFESSOR  \n",
        "import pandas as pd  \n",
        "arquivo = 'url do professor'  \n",
        "dfValidacao = pd.read_csv(arquivo, encoding='utf-8')  \n",
        "dfTeste = dfValidacao  \n",
        "'''"
      ],
      "execution_count": 161,
      "outputs": [
        {
          "output_type": "execute_result",
          "data": {
            "application/vnd.google.colaboratory.intrinsic+json": {
              "type": "string"
            },
            "text/plain": [
              "\"\\n# PARTE DO PROFESSOR  \\nimport pandas as pd  \\narquivo = 'url do professor'  \\ndfValidacao = pd.read_csv(arquivo, encoding='utf-8')  \\ndfTeste = dfValidacao  \\n\""
            ]
          },
          "metadata": {
            "tags": []
          },
          "execution_count": 161
        }
      ]
    },
    {
      "cell_type": "code",
      "metadata": {
        "id": "BuJtvcfXo3J4",
        "colab": {
          "base_uri": "https://localhost:8080/"
        },
        "outputId": "6ef46592-313e-4568-fce3-ae314d28c5fd"
      },
      "source": [
        "# escoragem da classificação na amostra de teste\n",
        "text_vect_test = text_count2Vect.transform(dfTeste.texto)\n",
        "y_prediction = bayes.predict(text_vect_test)\n",
        "\n",
        "# mensuração do resultado pela acurácia\n",
        "score = f1_score(y_prediction, dfTeste.sentimento, average='weighted')\n",
        "print('F1 Score de validação utilizando o texto original com CountVectorizer, Bigramas e Naive Bayes:', score)"
      ],
      "execution_count": 162,
      "outputs": [
        {
          "output_type": "stream",
          "text": [
            "F1 Score de validação utilizando o texto original com CountVectorizer, Bigramas e Naive Bayes: 0.8843036455724294\n"
          ],
          "name": "stdout"
        }
      ]
    }
  ]
}